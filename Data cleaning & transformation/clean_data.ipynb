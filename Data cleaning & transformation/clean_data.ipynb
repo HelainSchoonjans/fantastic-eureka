{
 "cells": [
  {
   "cell_type": "code",
   "execution_count": 6,
   "metadata": {
    "collapsed": false
   },
   "outputs": [
    {
     "name": "stderr",
     "output_type": "stream",
     "text": [
      "/opt/conda/lib/python3.5/site-packages/IPython/core/interactiveshell.py:2717: DtypeWarning: Columns (5) have mixed types. Specify dtype option on import or set low_memory=False.\n",
      "  interactivity=interactivity, compiler=compiler, result=result)\n"
     ]
    },
    {
     "data": {
      "text/html": [
       "<div>\n",
       "<table border=\"1\" class=\"dataframe\">\n",
       "  <thead>\n",
       "    <tr style=\"text-align: right;\">\n",
       "      <th></th>\n",
       "      <th>Action_id</th>\n",
       "      <th>TypeAction</th>\n",
       "      <th>Page_name</th>\n",
       "      <th>Feed_message</th>\n",
       "      <th>User_name</th>\n",
       "      <th>CommentsForItem_message</th>\n",
       "      <th>Sentiment</th>\n",
       "      <th>Action_created_time_qvdate</th>\n",
       "    </tr>\n",
       "  </thead>\n",
       "  <tbody>\n",
       "    <tr>\n",
       "      <th>0</th>\n",
       "      <td>Comment/1364017066952510_1364097753611108</td>\n",
       "      <td>Comment</td>\n",
       "      <td>Resident Evil</td>\n",
       "      <td>[UK ONLY] To celebrate the release of Resident...</td>\n",
       "      <td>Ronald Briand</td>\n",
       "      <td>Muy buena :)  (Y)</td>\n",
       "      <td>0.9880</td>\n",
       "      <td>1/5/2017</td>\n",
       "    </tr>\n",
       "    <tr>\n",
       "      <th>1</th>\n",
       "      <td>Comment/10154797365350629_10154797373500629</td>\n",
       "      <td>Comment</td>\n",
       "      <td>Bandai Namco</td>\n",
       "      <td>We continue our Tales Of look back with Tales ...</td>\n",
       "      <td>Jon Imboden</td>\n",
       "      <td>I may be in the minority here, but I LOVE the ...</td>\n",
       "      <td>0.9540</td>\n",
       "      <td>12/27/2016</td>\n",
       "    </tr>\n",
       "    <tr>\n",
       "      <th>2</th>\n",
       "      <td>Comment/1365217000165850_1365754593445424</td>\n",
       "      <td>Comment</td>\n",
       "      <td>Resident Evil</td>\n",
       "      <td>Are you afraid of the dark? Because you should...</td>\n",
       "      <td>Claudia Alejandra Olguín</td>\n",
       "      <td>mira Roberto Zeballos,  para probar en tu PEQU...</td>\n",
       "      <td>0.9527</td>\n",
       "      <td>1/7/2017</td>\n",
       "    </tr>\n",
       "    <tr>\n",
       "      <th>3</th>\n",
       "      <td>Comment/1364017066952510_1364061950281355</td>\n",
       "      <td>Comment</td>\n",
       "      <td>Resident Evil</td>\n",
       "      <td>[UK ONLY] To celebrate the release of Resident...</td>\n",
       "      <td>David Lawrence</td>\n",
       "      <td>Sarah Amadeus :O</td>\n",
       "      <td>0.9402</td>\n",
       "      <td>1/5/2017</td>\n",
       "    </tr>\n",
       "    <tr>\n",
       "      <th>4</th>\n",
       "      <td>Comment/1365217000165850_1225502404193085</td>\n",
       "      <td>Comment</td>\n",
       "      <td>Resident Evil</td>\n",
       "      <td>Are you afraid of the dark? Because you should...</td>\n",
       "      <td>Leandro Guilherme</td>\n",
       "      <td>Aeee Paulo Lucas vou te dar de presente no seu...</td>\n",
       "      <td>0.9382</td>\n",
       "      <td>1/8/2017</td>\n",
       "    </tr>\n",
       "  </tbody>\n",
       "</table>\n",
       "</div>"
      ],
      "text/plain": [
       "                                     Action_id TypeAction      Page_name  \\\n",
       "0    Comment/1364017066952510_1364097753611108    Comment  Resident Evil   \n",
       "1  Comment/10154797365350629_10154797373500629    Comment   Bandai Namco   \n",
       "2    Comment/1365217000165850_1365754593445424    Comment  Resident Evil   \n",
       "3    Comment/1364017066952510_1364061950281355    Comment  Resident Evil   \n",
       "4    Comment/1365217000165850_1225502404193085    Comment  Resident Evil   \n",
       "\n",
       "                                        Feed_message  \\\n",
       "0  [UK ONLY] To celebrate the release of Resident...   \n",
       "1  We continue our Tales Of look back with Tales ...   \n",
       "2  Are you afraid of the dark? Because you should...   \n",
       "3  [UK ONLY] To celebrate the release of Resident...   \n",
       "4  Are you afraid of the dark? Because you should...   \n",
       "\n",
       "                  User_name  \\\n",
       "0             Ronald Briand   \n",
       "1               Jon Imboden   \n",
       "2  Claudia Alejandra Olguín   \n",
       "3            David Lawrence   \n",
       "4         Leandro Guilherme   \n",
       "\n",
       "                             CommentsForItem_message  Sentiment  \\\n",
       "0                                  Muy buena :)  (Y)     0.9880   \n",
       "1  I may be in the minority here, but I LOVE the ...     0.9540   \n",
       "2  mira Roberto Zeballos,  para probar en tu PEQU...     0.9527   \n",
       "3                                   Sarah Amadeus :O     0.9402   \n",
       "4  Aeee Paulo Lucas vou te dar de presente no seu...     0.9382   \n",
       "\n",
       "  Action_created_time_qvdate  \n",
       "0                   1/5/2017  \n",
       "1                 12/27/2016  \n",
       "2                   1/7/2017  \n",
       "3                   1/5/2017  \n",
       "4                   1/8/2017  "
      ]
     },
     "execution_count": 6,
     "metadata": {},
     "output_type": "execute_result"
    }
   ],
   "source": [
    "import pandas as pd\n",
    "\n",
    "df = pd.read_csv(\"../input/input.csv\", na_values=[\"-\"])\n",
    "\n",
    "df.head()"
   ]
  },
  {
   "cell_type": "code",
   "execution_count": 7,
   "metadata": {
    "collapsed": false
   },
   "outputs": [
    {
     "name": "stdout",
     "output_type": "stream",
     "text": [
      "Action_id                      object\n",
      "TypeAction                     object\n",
      "Page_name                      object\n",
      "Feed_message                   object\n",
      "User_name                      object\n",
      "CommentsForItem_message        object\n",
      "Sentiment                     float64\n",
      "Action_created_time_qvdate     object\n",
      "dtype: object\n",
      "         Sentiment\n",
      "count  3222.000000\n",
      "mean     -0.032501\n",
      "std       0.396417\n",
      "min      -0.971000\n",
      "25%      -0.121675\n",
      "50%       0.000000\n",
      "75%       0.000000\n",
      "max       0.988000\n"
     ]
    }
   ],
   "source": [
    "print(df.dtypes)\n",
    "print(df.describe())"
   ]
  },
  {
   "cell_type": "code",
   "execution_count": 9,
   "metadata": {
    "collapsed": false
   },
   "outputs": [
    {
     "name": "stdout",
     "output_type": "stream",
     "text": [
      "0\n"
     ]
    }
   ],
   "source": [
    "comments = df[df.TypeAction == \"Comment\"]\n",
    "likes = df[df.TypeAction == \"Like\"]\n",
    "\n",
    "#print(comments.head())\n",
    "#print(likes.head())\n",
    "\n",
    "print(len(df) - len(comments) - len(likes))"
   ]
  },
  {
   "cell_type": "code",
   "execution_count": 12,
   "metadata": {
    "collapsed": false
   },
   "outputs": [
    {
     "name": "stdout",
     "output_type": "stream",
     "text": [
      "[nan 'Aaron Turness' 'Marcelo J. Biott' ..., 'Michael Tong'\n",
      " 'JadieKit Louise Brown' 'Mauro Mazzariol']\n"
     ]
    },
    {
     "ename": "AttributeError",
     "evalue": "'DataFrame' object has no attribute 'CommentsForItem_message'",
     "output_type": "error",
     "traceback": [
      "\u001b[0;31m---------------------------------------------------------------------------\u001b[0m",
      "\u001b[0;31mAttributeError\u001b[0m                            Traceback (most recent call last)",
      "\u001b[0;32m<ipython-input-12-adc577941880>\u001b[0m in \u001b[0;36m<module>\u001b[0;34m()\u001b[0m\n\u001b[1;32m      1\u001b[0m \u001b[0mprint\u001b[0m\u001b[0;34m(\u001b[0m\u001b[0mlikes\u001b[0m\u001b[0;34m.\u001b[0m\u001b[0mUser_name\u001b[0m\u001b[0;34m.\u001b[0m\u001b[0munique\u001b[0m\u001b[0;34m(\u001b[0m\u001b[0;34m)\u001b[0m\u001b[0;34m)\u001b[0m\u001b[0;34m\u001b[0m\u001b[0m\n\u001b[0;32m----> 2\u001b[0;31m \u001b[0mprint\u001b[0m\u001b[0;34m(\u001b[0m\u001b[0mlikes\u001b[0m\u001b[0;34m.\u001b[0m\u001b[0mCommentsForItem_message\u001b[0m\u001b[0;34m.\u001b[0m\u001b[0munique\u001b[0m\u001b[0;34m(\u001b[0m\u001b[0;34m)\u001b[0m\u001b[0;34m)\u001b[0m\u001b[0;34m\u001b[0m\u001b[0m\n\u001b[0m\u001b[1;32m      3\u001b[0m \u001b[0mprint\u001b[0m\u001b[0;34m(\u001b[0m\u001b[0mlikes\u001b[0m\u001b[0;34m.\u001b[0m\u001b[0mSentiment\u001b[0m\u001b[0;34m.\u001b[0m\u001b[0munique\u001b[0m\u001b[0;34m(\u001b[0m\u001b[0;34m)\u001b[0m\u001b[0;34m)\u001b[0m\u001b[0;34m\u001b[0m\u001b[0m\n",
      "\u001b[0;32m/opt/conda/lib/python3.5/site-packages/pandas/core/generic.py\u001b[0m in \u001b[0;36m__getattr__\u001b[0;34m(self, name)\u001b[0m\n\u001b[1;32m   2742\u001b[0m             \u001b[0;32mif\u001b[0m \u001b[0mname\u001b[0m \u001b[0;32min\u001b[0m \u001b[0mself\u001b[0m\u001b[0;34m.\u001b[0m\u001b[0m_info_axis\u001b[0m\u001b[0;34m:\u001b[0m\u001b[0;34m\u001b[0m\u001b[0m\n\u001b[1;32m   2743\u001b[0m                 \u001b[0;32mreturn\u001b[0m \u001b[0mself\u001b[0m\u001b[0;34m[\u001b[0m\u001b[0mname\u001b[0m\u001b[0;34m]\u001b[0m\u001b[0;34m\u001b[0m\u001b[0m\n\u001b[0;32m-> 2744\u001b[0;31m             \u001b[0;32mreturn\u001b[0m \u001b[0mobject\u001b[0m\u001b[0;34m.\u001b[0m\u001b[0m__getattribute__\u001b[0m\u001b[0;34m(\u001b[0m\u001b[0mself\u001b[0m\u001b[0;34m,\u001b[0m \u001b[0mname\u001b[0m\u001b[0;34m)\u001b[0m\u001b[0;34m\u001b[0m\u001b[0m\n\u001b[0m\u001b[1;32m   2745\u001b[0m \u001b[0;34m\u001b[0m\u001b[0m\n\u001b[1;32m   2746\u001b[0m     \u001b[0;32mdef\u001b[0m \u001b[0m__setattr__\u001b[0m\u001b[0;34m(\u001b[0m\u001b[0mself\u001b[0m\u001b[0;34m,\u001b[0m \u001b[0mname\u001b[0m\u001b[0;34m,\u001b[0m \u001b[0mvalue\u001b[0m\u001b[0;34m)\u001b[0m\u001b[0;34m:\u001b[0m\u001b[0;34m\u001b[0m\u001b[0m\n",
      "\u001b[0;31mAttributeError\u001b[0m: 'DataFrame' object has no attribute 'CommentsForItem_message'"
     ]
    }
   ],
   "source": [
    "print(likes.User_name.unique())\n",
    "print(likes.CommentsForItem_message.unique())\n",
    "print(likes.Sentiment.unique())"
   ]
  },
  {
   "cell_type": "code",
   "execution_count": 11,
   "metadata": {
    "collapsed": false
   },
   "outputs": [
    {
     "name": "stderr",
     "output_type": "stream",
     "text": [
      "/opt/conda/lib/python3.5/site-packages/ipykernel/__main__.py:2: SettingWithCopyWarning: \n",
      "A value is trying to be set on a copy of a slice from a DataFrame\n",
      "\n",
      "See the caveats in the documentation: http://pandas.pydata.org/pandas-docs/stable/indexing.html#indexing-view-versus-copy\n",
      "  from ipykernel import kernelapp as app\n",
      "/opt/conda/lib/python3.5/site-packages/ipykernel/__main__.py:5: SettingWithCopyWarning: \n",
      "A value is trying to be set on a copy of a slice from a DataFrame\n",
      "\n",
      "See the caveats in the documentation: http://pandas.pydata.org/pandas-docs/stable/indexing.html#indexing-view-versus-copy\n"
     ]
    },
    {
     "data": {
      "text/html": [
       "<div>\n",
       "<table border=\"1\" class=\"dataframe\">\n",
       "  <thead>\n",
       "    <tr style=\"text-align: right;\">\n",
       "      <th></th>\n",
       "      <th>Page_name</th>\n",
       "      <th>Feed_message</th>\n",
       "      <th>User_name</th>\n",
       "      <th>Action_created_time_qvdate</th>\n",
       "    </tr>\n",
       "  </thead>\n",
       "  <tbody>\n",
       "    <tr>\n",
       "      <th>count</th>\n",
       "      <td>56033</td>\n",
       "      <td>50987</td>\n",
       "      <td>58059</td>\n",
       "      <td>58089</td>\n",
       "    </tr>\n",
       "    <tr>\n",
       "      <th>unique</th>\n",
       "      <td>11</td>\n",
       "      <td>103</td>\n",
       "      <td>57089</td>\n",
       "      <td>7</td>\n",
       "    </tr>\n",
       "    <tr>\n",
       "      <th>top</th>\n",
       "      <td>Resident Evil</td>\n",
       "      <td>Are you afraid of the dark? Because you should...</td>\n",
       "      <td>Miguel Angel</td>\n",
       "      <td>1/4/2017</td>\n",
       "    </tr>\n",
       "    <tr>\n",
       "      <th>freq</th>\n",
       "      <td>28556</td>\n",
       "      <td>12177</td>\n",
       "      <td>8</td>\n",
       "      <td>25313</td>\n",
       "    </tr>\n",
       "  </tbody>\n",
       "</table>\n",
       "</div>"
      ],
      "text/plain": [
       "            Page_name                                       Feed_message  \\\n",
       "count           56033                                              50987   \n",
       "unique             11                                                103   \n",
       "top     Resident Evil  Are you afraid of the dark? Because you should...   \n",
       "freq            28556                                              12177   \n",
       "\n",
       "           User_name Action_created_time_qvdate  \n",
       "count          58059                      58089  \n",
       "unique         57089                          7  \n",
       "top     Miguel Angel                   1/4/2017  \n",
       "freq               8                      25313  "
      ]
     },
     "execution_count": 11,
     "metadata": {},
     "output_type": "execute_result"
    }
   ],
   "source": [
    "# let's drop the commentsForItem and Sentiment columns, as they are empty for the likes...\n",
    "likes.drop(['CommentsForItem_message', 'Sentiment'], 1,inplace=True)\n",
    "\n",
    "# also drop the columns with no information\n",
    "likes.drop(['TypeAction', 'Action_id'], 1,inplace=True)\n",
    "\n",
    "likes.describe()"
   ]
  },
  {
   "cell_type": "code",
   "execution_count": 10,
   "metadata": {
    "collapsed": true
   },
   "outputs": [],
   "source": [
    "comments.to_csv(\"../output/comments.csv\")\n",
    "likes.to_csv(\"../output/likes.csv\")"
   ]
  }
 ],
 "metadata": {
  "kernelspec": {
   "display_name": "Python 3",
   "language": "python",
   "name": "python3"
  },
  "language_info": {
   "codemirror_mode": {
    "name": "ipython",
    "version": 3
   },
   "file_extension": ".py",
   "mimetype": "text/x-python",
   "name": "python",
   "nbconvert_exporter": "python",
   "pygments_lexer": "ipython3",
   "version": "3.5.2"
  }
 },
 "nbformat": 4,
 "nbformat_minor": 2
}
