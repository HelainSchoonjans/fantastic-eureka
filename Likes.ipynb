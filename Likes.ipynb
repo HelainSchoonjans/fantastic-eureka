{
 "cells": [
  {
   "cell_type": "code",
   "execution_count": 34,
   "metadata": {
    "collapsed": false
   },
   "outputs": [
    {
     "name": "stdout",
     "output_type": "stream",
     "text": [
      "Requirement already satisfied (use --upgrade to upgrade): xlrd in /opt/conda/lib/python3.5/site-packages\n"
     ]
    },
    {
     "name": "stderr",
     "output_type": "stream",
     "text": [
      "You are using pip version 8.1.2, however version 9.0.1 is available.\n",
      "You should consider upgrading via the 'pip install --upgrade pip' command.\n"
     ]
    },
    {
     "data": {
      "text/html": [
       "<div>\n",
       "<table border=\"1\" class=\"dataframe\">\n",
       "  <thead>\n",
       "    <tr style=\"text-align: right;\">\n",
       "      <th></th>\n",
       "      <th>Action_id</th>\n",
       "      <th>TypeAction</th>\n",
       "      <th>Page_name</th>\n",
       "      <th>Feed_message</th>\n",
       "      <th>User_name</th>\n",
       "      <th>CommentsForItem_message</th>\n",
       "      <th>Sentiment</th>\n",
       "      <th>Action_created_time_qvdate</th>\n",
       "    </tr>\n",
       "  </thead>\n",
       "  <tbody>\n",
       "    <tr>\n",
       "      <th>7765</th>\n",
       "      <td>Like/6938264959</td>\n",
       "      <td>Like</td>\n",
       "      <td>CAPCOM</td>\n",
       "      <td>The team at Capcom Vancouver want to wish ever...</td>\n",
       "      <td>-</td>\n",
       "      <td>-</td>\n",
       "      <td>-</td>\n",
       "      <td>2017-01-04</td>\n",
       "    </tr>\n",
       "    <tr>\n",
       "      <th>7766</th>\n",
       "      <td>Like/12040282146</td>\n",
       "      <td>Like</td>\n",
       "      <td>-</td>\n",
       "      <td>Before it comes out, i playing all the horror ...</td>\n",
       "      <td>-</td>\n",
       "      <td>-</td>\n",
       "      <td>-</td>\n",
       "      <td>2017-01-05</td>\n",
       "    </tr>\n",
       "    <tr>\n",
       "      <th>7767</th>\n",
       "      <td>Like/49054165628</td>\n",
       "      <td>Like</td>\n",
       "      <td>Bandai Namco</td>\n",
       "      <td>Surfs up! Boruto is bringing tsunami reinforce...</td>\n",
       "      <td>-</td>\n",
       "      <td>-</td>\n",
       "      <td>-</td>\n",
       "      <td>2017-01-04</td>\n",
       "    </tr>\n",
       "    <tr>\n",
       "      <th>7768</th>\n",
       "      <td>Like/154718398250</td>\n",
       "      <td>Like</td>\n",
       "      <td>-</td>\n",
       "      <td>21 días para experimentar el miedo y el terror...</td>\n",
       "      <td>-</td>\n",
       "      <td>-</td>\n",
       "      <td>-</td>\n",
       "      <td>2017-01-04</td>\n",
       "    </tr>\n",
       "    <tr>\n",
       "      <th>7769</th>\n",
       "      <td>Like/285330833071</td>\n",
       "      <td>Like</td>\n",
       "      <td>-</td>\n",
       "      <td>Before it comes out, i playing all the horror ...</td>\n",
       "      <td>-</td>\n",
       "      <td>-</td>\n",
       "      <td>-</td>\n",
       "      <td>2017-01-05</td>\n",
       "    </tr>\n",
       "  </tbody>\n",
       "</table>\n",
       "</div>"
      ],
      "text/plain": [
       "              Action_id TypeAction     Page_name  \\\n",
       "7765    Like/6938264959       Like        CAPCOM   \n",
       "7766   Like/12040282146       Like             -   \n",
       "7767   Like/49054165628       Like  Bandai Namco   \n",
       "7768  Like/154718398250       Like             -   \n",
       "7769  Like/285330833071       Like             -   \n",
       "\n",
       "                                           Feed_message User_name  \\\n",
       "7765  The team at Capcom Vancouver want to wish ever...         -   \n",
       "7766  Before it comes out, i playing all the horror ...         -   \n",
       "7767  Surfs up! Boruto is bringing tsunami reinforce...         -   \n",
       "7768  21 días para experimentar el miedo y el terror...         -   \n",
       "7769  Before it comes out, i playing all the horror ...         -   \n",
       "\n",
       "     CommentsForItem_message Sentiment Action_created_time_qvdate  \n",
       "7765                       -         -                 2017-01-04  \n",
       "7766                       -         -                 2017-01-05  \n",
       "7767                       -         -                 2017-01-04  \n",
       "7768                       -         -                 2017-01-04  \n",
       "7769                       -         -                 2017-01-05  "
      ]
     },
     "execution_count": 34,
     "metadata": {},
     "output_type": "execute_result"
    }
   ],
   "source": [
    "import pandas as pd\n",
    "import pip\n",
    "\n",
    "pip.main(['install', 'xlrd'])\n",
    "\n",
    "input_file = \"input/input.xlsx\"\n",
    "\n",
    "df = pd.read_excel(input_file)\n",
    "likes = df[df.TypeAction == \"Like\"]\n",
    "\n",
    "likes.head()"
   ]
  },
  {
   "cell_type": "code",
   "execution_count": 36,
   "metadata": {
    "collapsed": false,
    "scrolled": true
   },
   "outputs": [
    {
     "name": "stdout",
     "output_type": "stream",
     "text": [
      "['-' 'Aaron Turness' 'Marcelo J. Biott' ..., 'Michael Tong'\n",
      " 'JadieKit Louise Brown' 'Mauro Mazzariol']\n",
      "['-']\n",
      "['-']\n"
     ]
    }
   ],
   "source": [
    "print(likes.User_name.unique())\n",
    "print(likes.CommentsForItem_message.unique())\n",
    "print(likes.Sentiment.unique())"
   ]
  },
  {
   "cell_type": "code",
   "execution_count": 37,
   "metadata": {
    "collapsed": false
   },
   "outputs": [
    {
     "name": "stderr",
     "output_type": "stream",
     "text": [
      "/opt/conda/lib/python3.5/site-packages/ipykernel/__main__.py:2: SettingWithCopyWarning: \n",
      "A value is trying to be set on a copy of a slice from a DataFrame\n",
      "\n",
      "See the caveats in the documentation: http://pandas.pydata.org/pandas-docs/stable/indexing.html#indexing-view-versus-copy\n",
      "  from ipykernel import kernelapp as app\n",
      "/opt/conda/lib/python3.5/site-packages/ipykernel/__main__.py:5: SettingWithCopyWarning: \n",
      "A value is trying to be set on a copy of a slice from a DataFrame\n",
      "\n",
      "See the caveats in the documentation: http://pandas.pydata.org/pandas-docs/stable/indexing.html#indexing-view-versus-copy\n"
     ]
    },
    {
     "data": {
      "text/html": [
       "<div>\n",
       "<table border=\"1\" class=\"dataframe\">\n",
       "  <thead>\n",
       "    <tr style=\"text-align: right;\">\n",
       "      <th></th>\n",
       "      <th>Page_name</th>\n",
       "      <th>Feed_message</th>\n",
       "      <th>User_name</th>\n",
       "      <th>Action_created_time_qvdate</th>\n",
       "    </tr>\n",
       "  </thead>\n",
       "  <tbody>\n",
       "    <tr>\n",
       "      <th>7765</th>\n",
       "      <td>CAPCOM</td>\n",
       "      <td>The team at Capcom Vancouver want to wish ever...</td>\n",
       "      <td>-</td>\n",
       "      <td>2017-01-04</td>\n",
       "    </tr>\n",
       "    <tr>\n",
       "      <th>7766</th>\n",
       "      <td>-</td>\n",
       "      <td>Before it comes out, i playing all the horror ...</td>\n",
       "      <td>-</td>\n",
       "      <td>2017-01-05</td>\n",
       "    </tr>\n",
       "    <tr>\n",
       "      <th>7767</th>\n",
       "      <td>Bandai Namco</td>\n",
       "      <td>Surfs up! Boruto is bringing tsunami reinforce...</td>\n",
       "      <td>-</td>\n",
       "      <td>2017-01-04</td>\n",
       "    </tr>\n",
       "    <tr>\n",
       "      <th>7768</th>\n",
       "      <td>-</td>\n",
       "      <td>21 días para experimentar el miedo y el terror...</td>\n",
       "      <td>-</td>\n",
       "      <td>2017-01-04</td>\n",
       "    </tr>\n",
       "    <tr>\n",
       "      <th>7769</th>\n",
       "      <td>-</td>\n",
       "      <td>Before it comes out, i playing all the horror ...</td>\n",
       "      <td>-</td>\n",
       "      <td>2017-01-05</td>\n",
       "    </tr>\n",
       "  </tbody>\n",
       "</table>\n",
       "</div>"
      ],
      "text/plain": [
       "         Page_name                                       Feed_message  \\\n",
       "7765        CAPCOM  The team at Capcom Vancouver want to wish ever...   \n",
       "7766             -  Before it comes out, i playing all the horror ...   \n",
       "7767  Bandai Namco  Surfs up! Boruto is bringing tsunami reinforce...   \n",
       "7768             -  21 días para experimentar el miedo y el terror...   \n",
       "7769             -  Before it comes out, i playing all the horror ...   \n",
       "\n",
       "     User_name Action_created_time_qvdate  \n",
       "7765         -                 2017-01-04  \n",
       "7766         -                 2017-01-05  \n",
       "7767         -                 2017-01-04  \n",
       "7768         -                 2017-01-04  \n",
       "7769         -                 2017-01-05  "
      ]
     },
     "execution_count": 37,
     "metadata": {},
     "output_type": "execute_result"
    }
   ],
   "source": [
    "# let's drop the commentsForItem and Sentiment columns, as they are empty for the likes...\n",
    "likes.drop(['CommentsForItem_message', 'Sentiment'], 1,inplace=True)\n",
    "\n",
    "# also drop the columns with no information\n",
    "likes.drop(['TypeAction', 'Action_id'], 1,inplace=True)\n",
    "\n",
    "likes.head()"
   ]
  },
  {
   "cell_type": "code",
   "execution_count": 32,
   "metadata": {
    "collapsed": false,
    "scrolled": true
   },
   "outputs": [
    {
     "data": {
      "text/html": [
       "<div>\n",
       "<table border=\"1\" class=\"dataframe\">\n",
       "  <thead>\n",
       "    <tr style=\"text-align: right;\">\n",
       "      <th></th>\n",
       "      <th>Page_name</th>\n",
       "      <th>Feed_message</th>\n",
       "      <th>User_name</th>\n",
       "      <th>Action_created_time_qvdate</th>\n",
       "    </tr>\n",
       "  </thead>\n",
       "  <tbody>\n",
       "    <tr>\n",
       "      <th>count</th>\n",
       "      <td>58089</td>\n",
       "      <td>50987</td>\n",
       "      <td>58089</td>\n",
       "      <td>58089</td>\n",
       "    </tr>\n",
       "    <tr>\n",
       "      <th>unique</th>\n",
       "      <td>12</td>\n",
       "      <td>103</td>\n",
       "      <td>57090</td>\n",
       "      <td>7</td>\n",
       "    </tr>\n",
       "    <tr>\n",
       "      <th>top</th>\n",
       "      <td>Resident Evil</td>\n",
       "      <td>Are you afraid of the dark? Because you should...</td>\n",
       "      <td>-</td>\n",
       "      <td>2017-01-04 00:00:00</td>\n",
       "    </tr>\n",
       "    <tr>\n",
       "      <th>freq</th>\n",
       "      <td>28556</td>\n",
       "      <td>12177</td>\n",
       "      <td>30</td>\n",
       "      <td>25313</td>\n",
       "    </tr>\n",
       "    <tr>\n",
       "      <th>first</th>\n",
       "      <td>NaN</td>\n",
       "      <td>NaN</td>\n",
       "      <td>NaN</td>\n",
       "      <td>2017-01-04 00:00:00</td>\n",
       "    </tr>\n",
       "    <tr>\n",
       "      <th>last</th>\n",
       "      <td>NaN</td>\n",
       "      <td>NaN</td>\n",
       "      <td>NaN</td>\n",
       "      <td>2017-01-10 00:00:00</td>\n",
       "    </tr>\n",
       "  </tbody>\n",
       "</table>\n",
       "</div>"
      ],
      "text/plain": [
       "            Page_name                                       Feed_message  \\\n",
       "count           58089                                              50987   \n",
       "unique             12                                                103   \n",
       "top     Resident Evil  Are you afraid of the dark? Because you should...   \n",
       "freq            28556                                              12177   \n",
       "first             NaN                                                NaN   \n",
       "last              NaN                                                NaN   \n",
       "\n",
       "       User_name Action_created_time_qvdate  \n",
       "count      58089                      58089  \n",
       "unique     57090                          7  \n",
       "top            -        2017-01-04 00:00:00  \n",
       "freq          30                      25313  \n",
       "first        NaN        2017-01-04 00:00:00  \n",
       "last         NaN        2017-01-10 00:00:00  "
      ]
     },
     "execution_count": 32,
     "metadata": {},
     "output_type": "execute_result"
    }
   ],
   "source": [
    "likes.describe()"
   ]
  }
 ],
 "metadata": {
  "kernelspec": {
   "display_name": "Python 3",
   "language": "python",
   "name": "python3"
  },
  "language_info": {
   "codemirror_mode": {
    "name": "ipython",
    "version": 3
   },
   "file_extension": ".py",
   "mimetype": "text/x-python",
   "name": "python",
   "nbconvert_exporter": "python",
   "pygments_lexer": "ipython3",
   "version": "3.5.2"
  }
 },
 "nbformat": 4,
 "nbformat_minor": 0
}
