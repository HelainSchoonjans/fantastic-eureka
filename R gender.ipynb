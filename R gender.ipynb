{
 "cells": [
  {
   "cell_type": "code",
   "execution_count": 3,
   "metadata": {
    "collapsed": false
   },
   "outputs": [
    {
     "name": "stderr",
     "output_type": "stream",
     "text": [
      "Updating HTML index of packages in '.Library'\n",
      "Making 'packages.html' ... done\n"
     ]
    },
    {
     "ename": "ERROR",
     "evalue": "Error in read.table(\"input/input.xlsx\", header = TRUE, fill = TRUE, row.names = NULL, : more columns than column names\n",
     "output_type": "error",
     "traceback": [
      "Error in read.table(\"input/input.xlsx\", header = TRUE, fill = TRUE, row.names = NULL, : more columns than column names\nTraceback:\n",
      "1. read.table(\"input/input.xlsx\", header = TRUE, fill = TRUE, row.names = NULL, \n .     skipNul = TRUE)",
      "2. stop(\"more columns than column names\")"
     ]
    }
   ],
   "source": [
    "install.packages(\"gender\")\n",
    "\n",
    "df <- read.table(\"input/input.xlsx\", header = TRUE, fill= TRUE, row.names=NULL, skipNul = TRUE)\n"
   ]
  }
 ],
 "metadata": {
  "kernelspec": {
   "display_name": "R",
   "language": "R",
   "name": "ir"
  },
  "language_info": {
   "codemirror_mode": "r",
   "file_extension": ".r",
   "mimetype": "text/x-r-source",
   "name": "R",
   "pygments_lexer": "r",
   "version": "3.3.1"
  }
 },
 "nbformat": 4,
 "nbformat_minor": 2
}
