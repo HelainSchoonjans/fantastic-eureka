{
 "cells": [
  {
   "cell_type": "code",
   "execution_count": 2,
   "metadata": {
    "collapsed": false
   },
   "outputs": [
    {
     "name": "stderr",
     "output_type": "stream",
     "text": [
      "Updating HTML index of packages in '.Library'\n",
      "Making 'packages.html' ... done\n",
      "Updating HTML index of packages in '.Library'\n",
      "Making 'packages.html' ... done\n"
     ]
    }
   ],
   "source": [
    "install.packages(\"gender\", repos=\"http://cran.rstudio.com/\")\n",
    "install.packages(\"genderdata\", repos = \"http://packages.ropensci.org\")"
   ]
  },
  {
   "cell_type": "code",
   "execution_count": 20,
   "metadata": {
    "collapsed": false,
    "scrolled": true
   },
   "outputs": [
    {
     "name": "stdout",
     "output_type": "stream",
     "text": [
      "[1] \"Column names:\"\n"
     ]
    },
    {
     "data": {
      "text/html": [
       "<ol class=list-inline>\n",
       "\t<li>'Action_id'</li>\n",
       "\t<li>'TypeAction'</li>\n",
       "\t<li>'Page_name'</li>\n",
       "\t<li>'Feed_message'</li>\n",
       "\t<li>'User_name'</li>\n",
       "\t<li>'CommentsForItem_message'</li>\n",
       "\t<li>'Sentiment'</li>\n",
       "\t<li>'Action_created_time_qvdate'</li>\n",
       "</ol>\n"
      ],
      "text/latex": [
       "\\begin{enumerate*}\n",
       "\\item 'Action\\_id'\n",
       "\\item 'TypeAction'\n",
       "\\item 'Page\\_name'\n",
       "\\item 'Feed\\_message'\n",
       "\\item 'User\\_name'\n",
       "\\item 'CommentsForItem\\_message'\n",
       "\\item 'Sentiment'\n",
       "\\item 'Action\\_created\\_time\\_qvdate'\n",
       "\\end{enumerate*}\n"
      ],
      "text/markdown": [
       "1. 'Action_id'\n",
       "2. 'TypeAction'\n",
       "3. 'Page_name'\n",
       "4. 'Feed_message'\n",
       "5. 'User_name'\n",
       "6. 'CommentsForItem_message'\n",
       "7. 'Sentiment'\n",
       "8. 'Action_created_time_qvdate'\n",
       "\n",
       "\n"
      ],
      "text/plain": [
       "[1] \"Action_id\"                  \"TypeAction\"                \n",
       "[3] \"Page_name\"                  \"Feed_message\"              \n",
       "[5] \"User_name\"                  \"CommentsForItem_message\"   \n",
       "[7] \"Sentiment\"                  \"Action_created_time_qvdate\""
      ]
     },
     "metadata": {},
     "output_type": "display_data"
    },
    {
     "name": "stdout",
     "output_type": "stream",
     "text": [
      "[1] \"Head:\"\n"
     ]
    },
    {
     "data": {
      "text/html": [
       "<table>\n",
       "<thead><tr><th></th><th scope=col>Action_id</th><th scope=col>TypeAction</th><th scope=col>Page_name</th><th scope=col>Feed_message</th><th scope=col>User_name</th><th scope=col>CommentsForItem_message</th><th scope=col>Sentiment</th><th scope=col>Action_created_time_qvdate</th></tr></thead>\n",
       "<tbody>\n",
       "\t<tr><th scope=row>1</th><td>Comment/1364017066952510_1364097753611108                                                                                                                                       </td><td>Comment                                                                                                                                                                         </td><td>Resident Evil                                                                                                                                                                   </td><td>[UK ONLY] To celebrate the release of Resident Evil 7, we invite you to feel the fear and dread of the Baker's house in our real life experience! http://RE7experiencelondon.com</td><td>Ronald Briand                                                                                                                                                                   </td><td>Muy buena :)  (Y)                                                                                                                                                               </td><td>0.9880                                                                                                                                                                          </td><td>1/5/2017                                                                                                                                                                        </td></tr>\n",
       "\t<tr><th scope=row>2</th><td>Comment/10154797365350629_10154797373500629                                                                                                       </td><td>Comment                                                                                                                                           </td><td>Bandai Namco                                                                                                                                      </td><td>We continue our Tales Of look back with Tales of Graces f! We loved Asbel's sense of justice (and awesome moves!) Who was your favorite character?</td><td>Jon Imboden                                                                                                                                       </td><td>I may be in the minority here, but I LOVE the battle system in this game. The story gets a bit convoluted, but is very enjoyable overall.         </td><td>0.9540                                                                                                                                            </td><td>12/27/2016                                                                                                                                        </td></tr>\n",
       "\t<tr><th scope=row>3</th><td>Comment/1365217000165850_1365754593445424              </td><td>Comment                                                </td><td>Resident Evil                                          </td><td>Are you afraid of the dark? Because you should be. #RE7</td><td>Claudia Alejandra Olgu<c3><ad>n                        </td><td>mira Roberto Zeballos,  para probar en tu PEQUE!! :)   </td><td>0.9527                                                 </td><td>1/7/2017                                               </td></tr>\n",
       "\t<tr><th scope=row>4</th><td>Comment/1364017066952510_1364061950281355                                                                                                                                       </td><td>Comment                                                                                                                                                                         </td><td>Resident Evil                                                                                                                                                                   </td><td>[UK ONLY] To celebrate the release of Resident Evil 7, we invite you to feel the fear and dread of the Baker's house in our real life experience! http://RE7experiencelondon.com</td><td>David Lawrence                                                                                                                                                                  </td><td>Sarah Amadeus :O                                                                                                                                                                </td><td>0.9402                                                                                                                                                                          </td><td>1/5/2017                                                                                                                                                                        </td></tr>\n",
       "\t<tr><th scope=row>5</th><td>Comment/1365217000165850_1225502404193085                    </td><td>Comment                                                      </td><td>Resident Evil                                                </td><td>Are you afraid of the dark? Because you should be. #RE7      </td><td>Leandro Guilherme                                            </td><td>Aeee Paulo Lucas vou te dar de presente no seu niver hahahaha</td><td>0.9382                                                       </td><td>1/8/2017                                                     </td></tr>\n",
       "\t<tr><th scope=row>6</th><td>Comment/1363458100341740_1366094460078104                                    </td><td>Comment                                                                      </td><td>Resident Evil                                                                </td><td>#ThingsIWontApologizeFor: Cheesy one-liners and using up all the magnum ammo.</td><td>Oliver Yamanaka                                                              </td><td>Tiro da \"derrota\", de JILL. Muito bom!                                       </td><td>0.9373                                                                       </td><td>1/8/2017                                                                     </td></tr>\n",
       "</tbody>\n",
       "</table>\n"
      ],
      "text/latex": [
       "\\begin{tabular}{r|llllllll}\n",
       "  & Action\\_id & TypeAction & Page\\_name & Feed\\_message & User\\_name & CommentsForItem\\_message & Sentiment & Action\\_created\\_time\\_qvdate\\\\\n",
       "\\hline\n",
       "\t1 & Comment/1364017066952510\\_1364097753611108                                                                                                                                          & Comment                                                                                                                                                                              & Resident Evil                                                                                                                                                                        & {[}UK ONLY{]} To celebrate the release of Resident Evil 7, we invite you to feel the fear and dread of the Baker's house in our real life experience! http://RE7experiencelondon.com & Ronald Briand                                                                                                                                                                        & Muy buena :)  (Y)                                                                                                                                                                    & 0.9880                                                                                                                                                                               & 1/5/2017                                                                                                                                                                            \\\\\n",
       "\t2 & Comment/10154797365350629\\_10154797373500629                                                                                                      & Comment                                                                                                                                            & Bandai Namco                                                                                                                                       & We continue our Tales Of look back with Tales of Graces f! We loved Asbel's sense of justice (and awesome moves!) Who was your favorite character? & Jon Imboden                                                                                                                                        & I may be in the minority here, but I LOVE the battle system in this game. The story gets a bit convoluted, but is very enjoyable overall.          & 0.9540                                                                                                                                             & 12/27/2016                                                                                                                                        \\\\\n",
       "\t3 & Comment/1365217000165850\\_1365754593445424               & Comment                                                   & Resident Evil                                             & Are you afraid of the dark? Because you should be. \\#RE7 & Claudia Alejandra Olgu<c3><ad>n                           & mira Roberto Zeballos,  para probar en tu PEQUE!! :)      & 0.9527                                                    & 1/7/2017                                                 \\\\\n",
       "\t4 & Comment/1364017066952510\\_1364061950281355                                                                                                                                          & Comment                                                                                                                                                                              & Resident Evil                                                                                                                                                                        & {[}UK ONLY{]} To celebrate the release of Resident Evil 7, we invite you to feel the fear and dread of the Baker's house in our real life experience! http://RE7experiencelondon.com & David Lawrence                                                                                                                                                                       & Sarah Amadeus :O                                                                                                                                                                     & 0.9402                                                                                                                                                                               & 1/5/2017                                                                                                                                                                            \\\\\n",
       "\t5 & Comment/1365217000165850\\_1225502404193085                   & Comment                                                       & Resident Evil                                                 & Are you afraid of the dark? Because you should be. \\#RE7     & Leandro Guilherme                                             & Aeee Paulo Lucas vou te dar de presente no seu niver hahahaha & 0.9382                                                        & 1/8/2017                                                     \\\\\n",
       "\t6 & Comment/1363458100341740\\_1366094460078104                                     & Comment                                                                         & Resident Evil                                                                   & \\#ThingsIWontApologizeFor: Cheesy one-liners and using up all the magnum ammo. & Oliver Yamanaka                                                                 & Tiro da \"derrota\", de JILL. Muito bom!                                          & 0.9373                                                                          & 1/8/2017                                                                       \\\\\n",
       "\\end{tabular}\n"
      ],
      "text/plain": [
       "                                    Action_id TypeAction     Page_name\n",
       "1   Comment/1364017066952510_1364097753611108    Comment Resident Evil\n",
       "2 Comment/10154797365350629_10154797373500629    Comment  Bandai Namco\n",
       "3   Comment/1365217000165850_1365754593445424    Comment Resident Evil\n",
       "4   Comment/1364017066952510_1364061950281355    Comment Resident Evil\n",
       "5   Comment/1365217000165850_1225502404193085    Comment Resident Evil\n",
       "6   Comment/1363458100341740_1366094460078104    Comment Resident Evil\n",
       "                                                                                                                                                                      Feed_message\n",
       "1 [UK ONLY] To celebrate the release of Resident Evil 7, we invite you to feel the fear and dread of the Baker's house in our real life experience! http://RE7experiencelondon.com\n",
       "2                               We continue our Tales Of look back with Tales of Graces f! We loved Asbel's sense of justice (and awesome moves!) Who was your favorite character?\n",
       "3                                                                                                                          Are you afraid of the dark? Because you should be. #RE7\n",
       "4 [UK ONLY] To celebrate the release of Resident Evil 7, we invite you to feel the fear and dread of the Baker's house in our real life experience! http://RE7experiencelondon.com\n",
       "5                                                                                                                          Are you afraid of the dark? Because you should be. #RE7\n",
       "6                                                                                                    #ThingsIWontApologizeFor: Cheesy one-liners and using up all the magnum ammo.\n",
       "                        User_name\n",
       "1                   Ronald Briand\n",
       "2                     Jon Imboden\n",
       "3 Claudia Alejandra Olgu\\303\\255n\n",
       "4                  David Lawrence\n",
       "5               Leandro Guilherme\n",
       "6                 Oliver Yamanaka\n",
       "                                                                                                                    CommentsForItem_message\n",
       "1                                                                                                                         Muy buena :)  (Y)\n",
       "2 I may be in the minority here, but I LOVE the battle system in this game. The story gets a bit convoluted, but is very enjoyable overall.\n",
       "3                                                                                      mira Roberto Zeballos,  para probar en tu PEQUE!! :)\n",
       "4                                                                                                                          Sarah Amadeus :O\n",
       "5                                                                             Aeee Paulo Lucas vou te dar de presente no seu niver hahahaha\n",
       "6                                                                                                    Tiro da \"derrota\", de JILL. Muito bom!\n",
       "  Sentiment Action_created_time_qvdate\n",
       "1    0.9880                   1/5/2017\n",
       "2    0.9540                 12/27/2016\n",
       "3    0.9527                   1/7/2017\n",
       "4    0.9402                   1/5/2017\n",
       "5    0.9382                   1/8/2017\n",
       "6    0.9373                   1/8/2017"
      ]
     },
     "metadata": {},
     "output_type": "display_data"
    },
    {
     "name": "stdout",
     "output_type": "stream",
     "text": [
      "[1] \"Usernames:\"\n"
     ]
    },
    {
     "data": {
      "text/html": [
       "<ol class=list-inline>\n",
       "\t<li>Ronald Briand</li>\n",
       "\t<li>Jon Imboden</li>\n",
       "\t<li>Claudia Alejandra Olgu<c3><ad>n</li>\n",
       "\t<li>David Lawrence</li>\n",
       "\t<li>Leandro Guilherme</li>\n",
       "\t<li>Oliver Yamanaka</li>\n",
       "</ol>\n"
      ],
      "text/latex": [
       "\\begin{enumerate*}\n",
       "\\item Ronald Briand\n",
       "\\item Jon Imboden\n",
       "\\item Claudia Alejandra Olgu<c3><ad>n\n",
       "\\item David Lawrence\n",
       "\\item Leandro Guilherme\n",
       "\\item Oliver Yamanaka\n",
       "\\end{enumerate*}\n"
      ],
      "text/markdown": [
       "1. Ronald Briand\n",
       "2. Jon Imboden\n",
       "3. Claudia Alejandra Olgu<c3><ad>n\n",
       "4. David Lawrence\n",
       "5. Leandro Guilherme\n",
       "6. Oliver Yamanaka\n",
       "\n",
       "\n"
      ],
      "text/plain": [
       "[1] Ronald Briand                   Jon Imboden                    \n",
       "[3] Claudia Alejandra Olgu\\303\\255n David Lawrence                 \n",
       "[5] Leandro Guilherme               Oliver Yamanaka                \n",
       "62233 Levels: 'regin Iyas ..."
      ]
     },
     "metadata": {},
     "output_type": "display_data"
    }
   ],
   "source": [
    "library(gender)\n",
    "no <- Sys.setlocale(locale=\"C\")\n",
    "df <- read.csv(\"input/input.csv\")\n",
    "subdf <- head(df)\n",
    "\n",
    "\n",
    "print('Column names:')\n",
    "colnames(subdf)\n",
    "\n",
    "print('Head:')\n",
    "head(subdf)\n",
    "\n",
    "print('Usernames:')\n",
    "usernames = subdf$User_name\n",
    "head(usernames)"
   ]
  },
  {
   "cell_type": "code",
   "execution_count": 4,
   "metadata": {
    "collapsed": false
   },
   "outputs": [
    {
     "name": "stdout",
     "output_type": "stream",
     "text": [
      "[1] \"First names:\"\n"
     ]
    },
    {
     "data": {
      "text/html": [
       "<ol class=list-inline>\n",
       "\t<li>'Ronald'</li>\n",
       "\t<li>'Jon'</li>\n",
       "\t<li>'Claudia'</li>\n",
       "\t<li>'David'</li>\n",
       "\t<li>'Leandro'</li>\n",
       "\t<li>'Oliver'</li>\n",
       "</ol>\n"
      ],
      "text/latex": [
       "\\begin{enumerate*}\n",
       "\\item 'Ronald'\n",
       "\\item 'Jon'\n",
       "\\item 'Claudia'\n",
       "\\item 'David'\n",
       "\\item 'Leandro'\n",
       "\\item 'Oliver'\n",
       "\\end{enumerate*}\n"
      ],
      "text/markdown": [
       "1. 'Ronald'\n",
       "2. 'Jon'\n",
       "3. 'Claudia'\n",
       "4. 'David'\n",
       "5. 'Leandro'\n",
       "6. 'Oliver'\n",
       "\n",
       "\n"
      ],
      "text/plain": [
       "[1] \"Ronald\"  \"Jon\"     \"Claudia\" \"David\"   \"Leandro\" \"Oliver\" "
      ]
     },
     "metadata": {},
     "output_type": "display_data"
    }
   ],
   "source": [
    "print('First names:')\n",
    "first_names <- sapply(strsplit(as.character(usernames),\" \"), `[`, 1)\n",
    "head(first_names)"
   ]
  },
  {
   "cell_type": "code",
   "execution_count": 5,
   "metadata": {
    "collapsed": false
   },
   "outputs": [
    {
     "name": "stdout",
     "output_type": "stream",
     "text": [
      "[1] \"Genders:\"\n"
     ]
    },
    {
     "data": {
      "text/html": [
       "<table>\n",
       "<thead><tr><th></th><th scope=col>name</th><th scope=col>proportion_male</th><th scope=col>proportion_female</th><th scope=col>gender</th><th scope=col>year_min</th><th scope=col>year_max</th></tr></thead>\n",
       "<tbody>\n",
       "\t<tr><th scope=row>1</th><td>Claudia</td><td>0.0051 </td><td>0.9949 </td><td>female </td><td>1932   </td><td>2012   </td></tr>\n",
       "\t<tr><th scope=row>2</th><td>David </td><td>0.9963</td><td>0.0037</td><td>male  </td><td>1932  </td><td>2012  </td></tr>\n",
       "\t<tr><th scope=row>3</th><td>Jon   </td><td>0.9921</td><td>0.0079</td><td>male  </td><td>1932  </td><td>2012  </td></tr>\n",
       "\t<tr><th scope=row>4</th><td>Leandro</td><td>1      </td><td>0      </td><td>male   </td><td>1932   </td><td>2012   </td></tr>\n",
       "\t<tr><th scope=row>5</th><td>Oliver</td><td>0.9956</td><td>0.0044</td><td>male  </td><td>1932  </td><td>2012  </td></tr>\n",
       "\t<tr><th scope=row>6</th><td>Ronald</td><td>0.9963</td><td>0.0037</td><td>male  </td><td>1932  </td><td>2012  </td></tr>\n",
       "</tbody>\n",
       "</table>\n"
      ],
      "text/latex": [
       "\\begin{tabular}{r|llllll}\n",
       "  & name & proportion\\_male & proportion\\_female & gender & year\\_min & year\\_max\\\\\n",
       "\\hline\n",
       "\t1 & Claudia & 0.0051  & 0.9949  & female  & 1932    & 2012   \\\\\n",
       "\t2 & David  & 0.9963 & 0.0037 & male   & 1932   & 2012  \\\\\n",
       "\t3 & Jon    & 0.9921 & 0.0079 & male   & 1932   & 2012  \\\\\n",
       "\t4 & Leandro & 1       & 0       & male    & 1932    & 2012   \\\\\n",
       "\t5 & Oliver & 0.9956 & 0.0044 & male   & 1932   & 2012  \\\\\n",
       "\t6 & Ronald & 0.9963 & 0.0037 & male   & 1932   & 2012  \\\\\n",
       "\\end{tabular}\n"
      ],
      "text/plain": [
       "Source: local data frame [6 x 6]\n",
       "\n",
       "     name proportion_male proportion_female gender year_min year_max\n",
       "    (chr)           (dbl)             (dbl)  (chr)    (dbl)    (dbl)\n",
       "1 Claudia          0.0051            0.9949 female     1932     2012\n",
       "2   David          0.9963            0.0037   male     1932     2012\n",
       "3     Jon          0.9921            0.0079   male     1932     2012\n",
       "4 Leandro          1.0000            0.0000   male     1932     2012\n",
       "5  Oliver          0.9956            0.0044   male     1932     2012\n",
       "6  Ronald          0.9963            0.0037   male     1932     2012"
      ]
     },
     "metadata": {},
     "output_type": "display_data"
    }
   ],
   "source": [
    "# get the gender from the name ( and age?)\n",
    "# compute the average accuracy ( proportion )\n",
    "# TODO HSC: how to get the age btw? Social networks?\n",
    "\n",
    "#install.packages(\"genderdata\", repos = \"http://packages.ropensci.org\")\n",
    "print('Genders:')\n",
    "genders <- gender(first_names)\n",
    "head(genders)"
   ]
  },
  {
   "cell_type": "code",
   "execution_count": 7,
   "metadata": {
    "collapsed": false
   },
   "outputs": [
    {
     "data": {
      "text/plain": [
       "     name           proportion_male  proportion_female     gender         \n",
       " Length:6           Min.   :0.0051   Min.   :0.000000   Length:6          \n",
       " Class :character   1st Qu.:0.9930   1st Qu.:0.003700   Class :character  \n",
       " Mode  :character   Median :0.9960   Median :0.004050   Mode  :character  \n",
       "                    Mean   :0.8309   Mean   :0.169100                     \n",
       "                    3rd Qu.:0.9963   3rd Qu.:0.007025                     \n",
       "                    Max.   :1.0000   Max.   :0.994900                     \n",
       "    year_min       year_max   \n",
       " Min.   :1932   Min.   :2012  \n",
       " 1st Qu.:1932   1st Qu.:2012  \n",
       " Median :1932   Median :2012  \n",
       " Mean   :1932   Mean   :2012  \n",
       " 3rd Qu.:1932   3rd Qu.:2012  \n",
       " Max.   :1932   Max.   :2012  "
      ]
     },
     "metadata": {},
     "output_type": "display_data"
    }
   ],
   "source": [
    "summary(genders)"
   ]
  },
  {
   "cell_type": "code",
   "execution_count": 9,
   "metadata": {
    "collapsed": true
   },
   "outputs": [],
   "source": [
    "all_usernames = df$User_name\n",
    "all_first_names <- sapply(strsplit(as.character(all_usernames),\" \"), `[`, 1)\n",
    "all_genders <- gender(all_first_names)"
   ]
  },
  {
   "cell_type": "code",
   "execution_count": 10,
   "metadata": {
    "collapsed": false
   },
   "outputs": [
    {
     "data": {
      "text/html": [
       "<table>\n",
       "<thead><tr><th></th><th scope=col>name</th><th scope=col>proportion_male</th><th scope=col>proportion_female</th><th scope=col>gender</th><th scope=col>year_min</th><th scope=col>year_max</th><th scope=col>first_name</th></tr></thead>\n",
       "<tbody>\n",
       "\t<tr><th scope=row>1</th><td>Aadish</td><td>1     </td><td>0     </td><td>male  </td><td>1932  </td><td>2012  </td><td>aadish</td></tr>\n",
       "\t<tr><th scope=row>2</th><td>Aafreen</td><td>0      </td><td>1      </td><td>female </td><td>1932   </td><td>2012   </td><td>aafreen</td></tr>\n",
       "\t<tr><th scope=row>3</th><td>Aakash</td><td>1     </td><td>0     </td><td>male  </td><td>1932  </td><td>2012  </td><td>aakash</td></tr>\n",
       "\t<tr><th scope=row>4</th><td>Aalia </td><td>0     </td><td>1     </td><td>female</td><td>1932  </td><td>2012  </td><td>aalia </td></tr>\n",
       "\t<tr><th scope=row>5</th><td>Aamer</td><td>1    </td><td>0    </td><td>male </td><td>1932 </td><td>2012 </td><td>aamer</td></tr>\n",
       "\t<tr><th scope=row>6</th><td>Aaminah</td><td>0      </td><td>1      </td><td>female </td><td>1932   </td><td>2012   </td><td>aaminah</td></tr>\n",
       "</tbody>\n",
       "</table>\n"
      ],
      "text/latex": [
       "\\begin{tabular}{r|lllllll}\n",
       "  & name & proportion\\_male & proportion\\_female & gender & year\\_min & year\\_max & first\\_name\\\\\n",
       "\\hline\n",
       "\t1 & Aadish & 1      & 0      & male   & 1932   & 2012   & aadish\\\\\n",
       "\t2 & Aafreen & 0       & 1       & female  & 1932    & 2012    & aafreen\\\\\n",
       "\t3 & Aakash & 1      & 0      & male   & 1932   & 2012   & aakash\\\\\n",
       "\t4 & Aalia  & 0      & 1      & female & 1932   & 2012   & aalia \\\\\n",
       "\t5 & Aamer & 1     & 0     & male  & 1932  & 2012  & aamer\\\\\n",
       "\t6 & Aaminah & 0       & 1       & female  & 1932    & 2012    & aaminah\\\\\n",
       "\\end{tabular}\n"
      ],
      "text/plain": [
       "Source: local data frame [6 x 7]\n",
       "\n",
       "     name proportion_male proportion_female gender year_min year_max first_name\n",
       "    (chr)           (dbl)             (dbl)  (chr)    (dbl)    (dbl)      (chr)\n",
       "1  Aadish               1                 0   male     1932     2012     aadish\n",
       "2 Aafreen               0                 1 female     1932     2012    aafreen\n",
       "3  Aakash               1                 0   male     1932     2012     aakash\n",
       "4   Aalia               0                 1 female     1932     2012      aalia\n",
       "5   Aamer               1                 0   male     1932     2012      aamer\n",
       "6 Aaminah               0                 1 female     1932     2012    aaminah"
      ]
     },
     "metadata": {},
     "output_type": "display_data"
    },
    {
     "data": {
      "text/html": [
       "<table>\n",
       "<thead><tr><th></th><th scope=col>Action_id</th><th scope=col>TypeAction</th><th scope=col>Page_name</th><th scope=col>Feed_message</th><th scope=col>User_name</th><th scope=col>CommentsForItem_message</th><th scope=col>Sentiment</th><th scope=col>Action_created_time_qvdate</th><th scope=col>first_name</th></tr></thead>\n",
       "<tbody>\n",
       "\t<tr><th scope=row>1</th><td>Comment/1364017066952510_1364097753611108                                                                                                                                       </td><td>Comment                                                                                                                                                                         </td><td>Resident Evil                                                                                                                                                                   </td><td>[UK ONLY] To celebrate the release of Resident Evil 7, we invite you to feel the fear and dread of the Baker's house in our real life experience! http://RE7experiencelondon.com</td><td>Ronald Briand                                                                                                                                                                   </td><td>Muy buena :)  (Y)                                                                                                                                                               </td><td>0.9880                                                                                                                                                                          </td><td>1/5/2017                                                                                                                                                                        </td><td>ronald                                                                                                                                                                          </td></tr>\n",
       "\t<tr><th scope=row>2</th><td>Comment/10154797365350629_10154797373500629                                                                                                       </td><td>Comment                                                                                                                                           </td><td>Bandai Namco                                                                                                                                      </td><td>We continue our Tales Of look back with Tales of Graces f! We loved Asbel's sense of justice (and awesome moves!) Who was your favorite character?</td><td>Jon Imboden                                                                                                                                       </td><td>I may be in the minority here, but I LOVE the battle system in this game. The story gets a bit convoluted, but is very enjoyable overall.         </td><td>0.9540                                                                                                                                            </td><td>12/27/2016                                                                                                                                        </td><td>jon                                                                                                                                               </td></tr>\n",
       "\t<tr><th scope=row>3</th><td>Comment/1365217000165850_1365754593445424              </td><td>Comment                                                </td><td>Resident Evil                                          </td><td>Are you afraid of the dark? Because you should be. #RE7</td><td>Claudia Alejandra Olgu<c3><ad>n                        </td><td>mira Roberto Zeballos,  para probar en tu PEQUE!! :)   </td><td>0.9527                                                 </td><td>1/7/2017                                               </td><td>claudia                                                </td></tr>\n",
       "\t<tr><th scope=row>4</th><td>Comment/1364017066952510_1364061950281355                                                                                                                                       </td><td>Comment                                                                                                                                                                         </td><td>Resident Evil                                                                                                                                                                   </td><td>[UK ONLY] To celebrate the release of Resident Evil 7, we invite you to feel the fear and dread of the Baker's house in our real life experience! http://RE7experiencelondon.com</td><td>David Lawrence                                                                                                                                                                  </td><td>Sarah Amadeus :O                                                                                                                                                                </td><td>0.9402                                                                                                                                                                          </td><td>1/5/2017                                                                                                                                                                        </td><td>david                                                                                                                                                                           </td></tr>\n",
       "\t<tr><th scope=row>5</th><td>Comment/1365217000165850_1225502404193085                    </td><td>Comment                                                      </td><td>Resident Evil                                                </td><td>Are you afraid of the dark? Because you should be. #RE7      </td><td>Leandro Guilherme                                            </td><td>Aeee Paulo Lucas vou te dar de presente no seu niver hahahaha</td><td>0.9382                                                       </td><td>1/8/2017                                                     </td><td>leandro                                                      </td></tr>\n",
       "\t<tr><th scope=row>6</th><td>Comment/1363458100341740_1366094460078104                                    </td><td>Comment                                                                      </td><td>Resident Evil                                                                </td><td>#ThingsIWontApologizeFor: Cheesy one-liners and using up all the magnum ammo.</td><td>Oliver Yamanaka                                                              </td><td>Tiro da \"derrota\", de JILL. Muito bom!                                       </td><td>0.9373                                                                       </td><td>1/8/2017                                                                     </td><td>oliver                                                                       </td></tr>\n",
       "</tbody>\n",
       "</table>\n"
      ],
      "text/latex": [
       "\\begin{tabular}{r|lllllllll}\n",
       "  & Action\\_id & TypeAction & Page\\_name & Feed\\_message & User\\_name & CommentsForItem\\_message & Sentiment & Action\\_created\\_time\\_qvdate & first\\_name\\\\\n",
       "\\hline\n",
       "\t1 & Comment/1364017066952510\\_1364097753611108                                                                                                                                          & Comment                                                                                                                                                                              & Resident Evil                                                                                                                                                                        & {[}UK ONLY{]} To celebrate the release of Resident Evil 7, we invite you to feel the fear and dread of the Baker's house in our real life experience! http://RE7experiencelondon.com & Ronald Briand                                                                                                                                                                        & Muy buena :)  (Y)                                                                                                                                                                    & 0.9880                                                                                                                                                                               & 1/5/2017                                                                                                                                                                             & ronald                                                                                                                                                                              \\\\\n",
       "\t2 & Comment/10154797365350629\\_10154797373500629                                                                                                      & Comment                                                                                                                                            & Bandai Namco                                                                                                                                       & We continue our Tales Of look back with Tales of Graces f! We loved Asbel's sense of justice (and awesome moves!) Who was your favorite character? & Jon Imboden                                                                                                                                        & I may be in the minority here, but I LOVE the battle system in this game. The story gets a bit convoluted, but is very enjoyable overall.          & 0.9540                                                                                                                                             & 12/27/2016                                                                                                                                         & jon                                                                                                                                               \\\\\n",
       "\t3 & Comment/1365217000165850\\_1365754593445424               & Comment                                                   & Resident Evil                                             & Are you afraid of the dark? Because you should be. \\#RE7 & Claudia Alejandra Olgu<c3><ad>n                           & mira Roberto Zeballos,  para probar en tu PEQUE!! :)      & 0.9527                                                    & 1/7/2017                                                  & claudia                                                  \\\\\n",
       "\t4 & Comment/1364017066952510\\_1364061950281355                                                                                                                                          & Comment                                                                                                                                                                              & Resident Evil                                                                                                                                                                        & {[}UK ONLY{]} To celebrate the release of Resident Evil 7, we invite you to feel the fear and dread of the Baker's house in our real life experience! http://RE7experiencelondon.com & David Lawrence                                                                                                                                                                       & Sarah Amadeus :O                                                                                                                                                                     & 0.9402                                                                                                                                                                               & 1/5/2017                                                                                                                                                                             & david                                                                                                                                                                               \\\\\n",
       "\t5 & Comment/1365217000165850\\_1225502404193085                   & Comment                                                       & Resident Evil                                                 & Are you afraid of the dark? Because you should be. \\#RE7     & Leandro Guilherme                                             & Aeee Paulo Lucas vou te dar de presente no seu niver hahahaha & 0.9382                                                        & 1/8/2017                                                      & leandro                                                      \\\\\n",
       "\t6 & Comment/1363458100341740\\_1366094460078104                                     & Comment                                                                         & Resident Evil                                                                   & \\#ThingsIWontApologizeFor: Cheesy one-liners and using up all the magnum ammo. & Oliver Yamanaka                                                                 & Tiro da \"derrota\", de JILL. Muito bom!                                          & 0.9373                                                                          & 1/8/2017                                                                        & oliver                                                                         \\\\\n",
       "\\end{tabular}\n"
      ],
      "text/plain": [
       "                                    Action_id TypeAction     Page_name\n",
       "1   Comment/1364017066952510_1364097753611108    Comment Resident Evil\n",
       "2 Comment/10154797365350629_10154797373500629    Comment  Bandai Namco\n",
       "3   Comment/1365217000165850_1365754593445424    Comment Resident Evil\n",
       "4   Comment/1364017066952510_1364061950281355    Comment Resident Evil\n",
       "5   Comment/1365217000165850_1225502404193085    Comment Resident Evil\n",
       "6   Comment/1363458100341740_1366094460078104    Comment Resident Evil\n",
       "                                                                                                                                                                      Feed_message\n",
       "1 [UK ONLY] To celebrate the release of Resident Evil 7, we invite you to feel the fear and dread of the Baker's house in our real life experience! http://RE7experiencelondon.com\n",
       "2                               We continue our Tales Of look back with Tales of Graces f! We loved Asbel's sense of justice (and awesome moves!) Who was your favorite character?\n",
       "3                                                                                                                          Are you afraid of the dark? Because you should be. #RE7\n",
       "4 [UK ONLY] To celebrate the release of Resident Evil 7, we invite you to feel the fear and dread of the Baker's house in our real life experience! http://RE7experiencelondon.com\n",
       "5                                                                                                                          Are you afraid of the dark? Because you should be. #RE7\n",
       "6                                                                                                    #ThingsIWontApologizeFor: Cheesy one-liners and using up all the magnum ammo.\n",
       "                        User_name\n",
       "1                   Ronald Briand\n",
       "2                     Jon Imboden\n",
       "3 Claudia Alejandra Olgu\\303\\255n\n",
       "4                  David Lawrence\n",
       "5               Leandro Guilherme\n",
       "6                 Oliver Yamanaka\n",
       "                                                                                                                    CommentsForItem_message\n",
       "1                                                                                                                         Muy buena :)  (Y)\n",
       "2 I may be in the minority here, but I LOVE the battle system in this game. The story gets a bit convoluted, but is very enjoyable overall.\n",
       "3                                                                                      mira Roberto Zeballos,  para probar en tu PEQUE!! :)\n",
       "4                                                                                                                          Sarah Amadeus :O\n",
       "5                                                                             Aeee Paulo Lucas vou te dar de presente no seu niver hahahaha\n",
       "6                                                                                                    Tiro da \"derrota\", de JILL. Muito bom!\n",
       "  Sentiment Action_created_time_qvdate first_name\n",
       "1    0.9880                   1/5/2017     ronald\n",
       "2    0.9540                 12/27/2016        jon\n",
       "3    0.9527                   1/7/2017    claudia\n",
       "4    0.9402                   1/5/2017      david\n",
       "5    0.9382                   1/8/2017    leandro\n",
       "6    0.9373                   1/8/2017     oliver"
      ]
     },
     "metadata": {},
     "output_type": "display_data"
    }
   ],
   "source": [
    "# now resave the input file, with the new columns\n",
    "all_first_names <- sapply(strsplit(as.character(df$User_name),\" \"), `[`, 1)\n",
    "df$first_name <- tolower(all_first_names)\n",
    "all_genders <- gender(unique(all_first_names))\n",
    "all_genders$first_name <- tolower(all_genders$name)\n",
    "                                                                  \n",
    "head(all_genders)\n",
    "summary(all_genders)"
   ]
  },
  {
   "cell_type": "code",
   "execution_count": 36,
   "metadata": {
    "collapsed": false
   },
   "outputs": [
    {
     "data": {
      "text/html": [
       "<table>\n",
       "<thead><tr><th></th><th scope=col>first_name</th><th scope=col>Action_id</th><th scope=col>TypeAction</th><th scope=col>Page_name</th><th scope=col>Feed_message</th><th scope=col>User_name</th><th scope=col>CommentsForItem_message</th><th scope=col>Sentiment</th><th scope=col>Action_created_time_qvdate</th><th scope=col>name</th><th scope=col>proportion_male</th><th scope=col>proportion_female</th><th scope=col>gender</th><th scope=col>year_min</th><th scope=col>year_max</th></tr></thead>\n",
       "<tbody>\n",
       "\t<tr><th scope=row>1</th><td>'regin                                                                                     </td><td>Like/1351451431565601                                                                      </td><td>Like                                                                                       </td><td>Bandai Namco                                                                               </td><td>Is there even a way to prepare your body for this? We're open to suggestions. #RoadtoBoruto</td><td>'regin Iyas                                                                                </td><td>-                                                                                          </td><td>-                                                                                          </td><td>1/7/2017                                                                                   </td><td>NA                                                                                         </td><td>NA                                                                                         </td><td>NA                                                                                         </td><td>NA                                                                                         </td><td>NA                                                                                         </td><td>NA                                                                                         </td></tr>\n",
       "\t<tr><th scope=row>2</th><td>'<ce><93><ce><b9><cf><89><cf><81><ce><b3><ce><bf><cf><82>                                                                  </td><td>Like/1840121602944310                                                                                                      </td><td>Like                                                                                                                       </td><td>TEKKEN                                                                                                                     </td><td>Dive into the week like Bob dives into his opponent. #MondayMotivation                                                     </td><td>'<ce><93><ce><b9><cf><89><cf><81><ce><b3><ce><bf><cf><82> <ce><93><cf><81><cf><85><cf><80><ce><b1><cf><81><ce><b7><cf><82>'</td><td>-                                                                                                                          </td><td>-                                                                                                                          </td><td>1/9/2017                                                                                                                   </td><td>NA                                                                                                                         </td><td>NA                                                                                                                         </td><td>NA                                                                                                                         </td><td>NA                                                                                                                         </td><td>NA                                                                                                                         </td><td>NA                                                                                                                         </td></tr>\n",
       "\t<tr><th scope=row>3</th><td>'<ce><95><ce><b9><cf><81><ce><b7><ce><bd><ce><b7>                                                                          </td><td>Like/1790336797885801                                                                                                      </td><td>Like                                                                                                                       </td><td>Resident Evil                                                                                                              </td><td><e2><80><aa>Day 2 of Resident Evil Christmas! Alexia put her presents under the Christmas tree! <e2><80><ac>               </td><td>'<ce><95><ce><b9><cf><81><ce><b7><ce><bd><ce><b7> <ce><a3><cf><84><ce><b5><ce><bb><ce><bb><ce><b1><cf><84><ce><bf><cf><85>'</td><td>-                                                                                                                          </td><td>-                                                                                                                          </td><td>1/4/2017                                                                                                                   </td><td>NA                                                                                                                         </td><td>NA                                                                                                                         </td><td>NA                                                                                                                         </td><td>NA                                                                                                                         </td><td>NA                                                                                                                         </td><td>NA                                                                                                                         </td></tr>\n",
       "\t<tr><th scope=row>4</th><td>'<db><a6>                                                                                                  </td><td>Like/1127220827394955                                                                                      </td><td>Like                                                                                                       </td><td>TEKKEN                                                                                                     </td><td>Need inspiration for your New Year<e2><80><99>s resolutions? Eric Jacobus has exactly what you need. Enjoy!</td><td>'<db><a6> <d9><85><d8><b1><d9><8a><d9><85>                                                                 </td><td>-                                                                                                          </td><td>-                                                                                                          </td><td>1/4/2017                                                                                                   </td><td>NA                                                                                                         </td><td>NA                                                                                                         </td><td>NA                                                                                                         </td><td>NA                                                                                                         </td><td>NA                                                                                                         </td><td>NA                                                                                                         </td></tr>\n",
       "\t<tr><th scope=row>5</th><td>-                                                                                                                                                                                                                       </td><td>Comment/1194130220666342_1194652720614092                                                                                                                                                                               </td><td>Comment                                                                                                                                                                                                                 </td><td>-                                                                                                                                                                                                                       </td><td>Ultimate Mortal Kombat 3 #FanArt: #Kitana by Banjamin Jara aka benjawheel. The first art of Kitana in 2017!\n",
       "http://benjawheel.deviantart.com/\n",
       "http://www.instagram.com/wheelartstuff/\n",
       "http://wheelartstuff.tumblr.com</td><td>-                                                                                                                                                                                                                       </td><td>Great art and a great start to 2017!                                                                                                                                                                                    </td><td>0.9255                                                                                                                                                                                                                  </td><td>1/6/2017                                                                                                                                                                                                                </td><td>NA                                                                                                                                                                                                                      </td><td>NA                                                                                                                                                                                                                      </td><td>NA                                                                                                                                                                                                                      </td><td>NA                                                                                                                                                                                                                      </td><td>NA                                                                                                                                                                                                                      </td><td>NA                                                                                                                                                                                                                      </td></tr>\n",
       "\t<tr><th scope=row>6</th><td>-                                                                                         </td><td>Comment/10154779856140629_10154798866910629                                               </td><td>Comment                                                                                   </td><td>Bandai Namco                                                                              </td><td>Safety first. Even when you're a living rocket launcher like Mecha Naruto <f0><9f><9a><80></td><td>-                                                                                         </td><td>Worlds best  super fan right here                                                         </td><td>0.8713                                                                                    </td><td>12/28/2016                                                                                </td><td>NA                                                                                        </td><td>NA                                                                                        </td><td>NA                                                                                        </td><td>NA                                                                                        </td><td>NA                                                                                        </td><td>NA                                                                                        </td></tr>\n",
       "</tbody>\n",
       "</table>\n"
      ],
      "text/latex": [
       "\\begin{tabular}{r|lllllllllllllll}\n",
       "  & first\\_name & Action\\_id & TypeAction & Page\\_name & Feed\\_message & User\\_name & CommentsForItem\\_message & Sentiment & Action\\_created\\_time\\_qvdate & name & proportion\\_male & proportion\\_female & gender & year\\_min & year\\_max\\\\\n",
       "\\hline\n",
       "\t1 & 'regin                                                                                        & Like/1351451431565601                                                                         & Like                                                                                          & Bandai Namco                                                                                  & Is there even a way to prepare your body for this? We're open to suggestions. \\#RoadtoBoruto & 'regin Iyas                                                                                   & -                                                                                             & -                                                                                             & 1/7/2017                                                                                      & NA                                                                                            & NA                                                                                            & NA                                                                                            & NA                                                                                            & NA                                                                                            & NA                                                                                           \\\\\n",
       "\t2 & '<ce><93><ce><b9><cf><89><cf><81><ce><b3><ce><bf><cf><82>                                                                   & Like/1840121602944310                                                                                                       & Like                                                                                                                        & TEKKEN                                                                                                                      & Dive into the week like Bob dives into his opponent. \\#MondayMotivation                                                    & '<ce><93><ce><b9><cf><89><cf><81><ce><b3><ce><bf><cf><82> <ce><93><cf><81><cf><85><cf><80><ce><b1><cf><81><ce><b7><cf><82>' & -                                                                                                                           & -                                                                                                                           & 1/9/2017                                                                                                                    & NA                                                                                                                          & NA                                                                                                                          & NA                                                                                                                          & NA                                                                                                                          & NA                                                                                                                          & NA                                                                                                                         \\\\\n",
       "\t3 & '<ce><95><ce><b9><cf><81><ce><b7><ce><bd><ce><b7>                                                                           & Like/1790336797885801                                                                                                       & Like                                                                                                                        & Resident Evil                                                                                                               & <e2><80><aa>Day 2 of Resident Evil Christmas! Alexia put her presents under the Christmas tree! <e2><80><ac>                & '<ce><95><ce><b9><cf><81><ce><b7><ce><bd><ce><b7> <ce><a3><cf><84><ce><b5><ce><bb><ce><bb><ce><b1><cf><84><ce><bf><cf><85>' & -                                                                                                                           & -                                                                                                                           & 1/4/2017                                                                                                                    & NA                                                                                                                          & NA                                                                                                                          & NA                                                                                                                          & NA                                                                                                                          & NA                                                                                                                          & NA                                                                                                                         \\\\\n",
       "\t4 & '<db><a6>                                                                                                   & Like/1127220827394955                                                                                       & Like                                                                                                        & TEKKEN                                                                                                      & Need inspiration for your New Year<e2><80><99>s resolutions? Eric Jacobus has exactly what you need. Enjoy! & '<db><a6> <d9><85><d8><b1><d9><8a><d9><85>                                                                  & -                                                                                                           & -                                                                                                           & 1/4/2017                                                                                                    & NA                                                                                                          & NA                                                                                                          & NA                                                                                                          & NA                                                                                                          & NA                                                                                                          & NA                                                                                                         \\\\\n",
       "\t5 & -                                                                                                                                                                                                                            & Comment/1194130220666342\\_1194652720614092                                                                                                                                                                                  & Comment                                                                                                                                                                                                                      & -                                                                                                                                                                                                                            & Ultimate Mortal Kombat 3 \\#FanArt: \\#Kitana by Banjamin Jara aka benjawheel. The first art of Kitana in 2017!\n",
       "http://benjawheel.deviantart.com/\n",
       "http://www.instagram.com/wheelartstuff/\n",
       "http://wheelartstuff.tumblr.com & -                                                                                                                                                                                                                            & Great art and a great start to 2017!                                                                                                                                                                                         & 0.9255                                                                                                                                                                                                                       & 1/6/2017                                                                                                                                                                                                                     & NA                                                                                                                                                                                                                           & NA                                                                                                                                                                                                                           & NA                                                                                                                                                                                                                           & NA                                                                                                                                                                                                                           & NA                                                                                                                                                                                                                           & NA                                                                                                                                                                                                                          \\\\\n",
       "\t6 & -                                                                                          & Comment/10154779856140629\\_10154798866910629                                              & Comment                                                                                    & Bandai Namco                                                                               & Safety first. Even when you're a living rocket launcher like Mecha Naruto <f0><9f><9a><80> & -                                                                                          & Worlds best  super fan right here                                                          & 0.8713                                                                                     & 12/28/2016                                                                                 & NA                                                                                         & NA                                                                                         & NA                                                                                         & NA                                                                                         & NA                                                                                         & NA                                                                                        \\\\\n",
       "\\end{tabular}\n"
      ],
      "text/plain": [
       "                                                 first_name\n",
       "1                                                    'regin\n",
       "2 '\\316\\223\\316\\271\\317\\211\\317\\201\\316\\263\\316\\277\\317\\202\n",
       "3         '\\316\\225\\316\\271\\317\\201\\316\\267\\316\\275\\316\\267\n",
       "4                                                 '\\333\\246\n",
       "5                                                         -\n",
       "6                                                         -\n",
       "                                    Action_id TypeAction     Page_name\n",
       "1                       Like/1351451431565601       Like  Bandai Namco\n",
       "2                       Like/1840121602944310       Like        TEKKEN\n",
       "3                       Like/1790336797885801       Like Resident Evil\n",
       "4                       Like/1127220827394955       Like        TEKKEN\n",
       "5   Comment/1194130220666342_1194652720614092    Comment             -\n",
       "6 Comment/10154779856140629_10154798866910629    Comment  Bandai Namco\n",
       "                                                                                                                                                                                                              Feed_message\n",
       "1                                                                                                                              Is there even a way to prepare your body for this? We're open to suggestions. #RoadtoBoruto\n",
       "2                                                                                                                                                   Dive into the week like Bob dives into his opponent. #MondayMotivation\n",
       "3                                                                                                             \\342\\200\\252Day 2 of Resident Evil Christmas! Alexia put her presents under the Christmas tree! \\342\\200\\254\n",
       "4                                                                                                              Need inspiration for your New Year\\342\\200\\231s resolutions? Eric Jacobus has exactly what you need. Enjoy!\n",
       "5 Ultimate Mortal Kombat 3 #FanArt: #Kitana by Banjamin Jara aka benjawheel. The first art of Kitana in 2017!\\nhttp://benjawheel.deviantart.com/\\nhttp://www.instagram.com/wheelartstuff/\\nhttp://wheelartstuff.tumblr.com\n",
       "6                                                                                                                               Safety first. Even when you're a living rocket launcher like Mecha Naruto \\360\\237\\232\\200\n",
       "                                                                                                                    User_name\n",
       "1                                                                                                                 'regin Iyas\n",
       "2 '\\316\\223\\316\\271\\317\\211\\317\\201\\316\\263\\316\\277\\317\\202 \\316\\223\\317\\201\\317\\205\\317\\200\\316\\261\\317\\201\\316\\267\\317\\202'\n",
       "3 '\\316\\225\\316\\271\\317\\201\\316\\267\\316\\275\\316\\267 \\316\\243\\317\\204\\316\\265\\316\\273\\316\\273\\316\\261\\317\\204\\316\\277\\317\\205'\n",
       "4                                                                                  '\\333\\246 \\331\\205\\330\\261\\331\\212\\331\\205\n",
       "5                                                                                                                           -\n",
       "6                                                                                                                           -\n",
       "               CommentsForItem_message Sentiment Action_created_time_qvdate\n",
       "1                                    -         -                   1/7/2017\n",
       "2                                    -         -                   1/9/2017\n",
       "3                                    -         -                   1/4/2017\n",
       "4                                    -         -                   1/4/2017\n",
       "5 Great art and a great start to 2017!    0.9255                   1/6/2017\n",
       "6    Worlds best  super fan right here    0.8713                 12/28/2016\n",
       "  name proportion_male proportion_female gender year_min year_max\n",
       "1 <NA>              NA                NA   <NA>       NA       NA\n",
       "2 <NA>              NA                NA   <NA>       NA       NA\n",
       "3 <NA>              NA                NA   <NA>       NA       NA\n",
       "4 <NA>              NA                NA   <NA>       NA       NA\n",
       "5 <NA>              NA                NA   <NA>       NA       NA\n",
       "6 <NA>              NA                NA   <NA>       NA       NA"
      ]
     },
     "metadata": {},
     "output_type": "display_data"
    },
    {
     "data": {
      "text/html": [
       "<table>\n",
       "<thead><tr><th></th><th scope=col>first_name</th><th scope=col>Action_id</th><th scope=col>TypeAction</th><th scope=col>Page_name</th><th scope=col>Feed_message</th><th scope=col>User_name</th><th scope=col>CommentsForItem_message</th><th scope=col>Sentiment</th><th scope=col>Action_created_time_qvdate</th><th scope=col>name</th><th scope=col>proportion_male</th><th scope=col>proportion_female</th><th scope=col>gender</th><th scope=col>year_min</th><th scope=col>year_max</th></tr></thead>\n",
       "<tbody>\n",
       "\t<tr><th scope=row>79</th><td>aadish                                                                                       </td><td>Like/10211262216735703                                                                       </td><td>Like                                                                                         </td><td>Street Fighter                                                                               </td><td>Artgerm starting the year off strong with this amazing Chun-Li fan art! http://bit.ly/2iAJ2qO</td><td>Aadish Balouria                                                                              </td><td>-                                                                                            </td><td>-                                                                                            </td><td>1/7/2017                                                                                     </td><td>Aadish                                                                                       </td><td>1                                                                                            </td><td>0                                                                                            </td><td>male                                                                                         </td><td>1932                                                                                         </td><td>2012                                                                                         </td></tr>\n",
       "\t<tr><th scope=row>80</th><td>aadish                                                                                       </td><td>Comment/10155001784202147_10155003381432147                                                  </td><td>Comment                                                                                      </td><td>Street Fighter                                                                               </td><td>Artgerm starting the year off strong with this amazing Chun-Li fan art! http://bit.ly/2iAJ2qO</td><td>Aadish Balouria                                                                              </td><td>Them octiceps femoris though                                                                 </td><td>-0.3339                                                                                      </td><td>1/7/2017                                                                                     </td><td>Aadish                                                                                       </td><td>1                                                                                            </td><td>0                                                                                            </td><td>male                                                                                         </td><td>1932                                                                                         </td><td>2012                                                                                         </td></tr>\n",
       "\t<tr><th scope=row>81</th><td>aafreen                                                </td><td>Like/10211099724065980                                 </td><td>Like                                                   </td><td>Resident Evil                                          </td><td>Are you afraid of the dark? Because you should be. #RE7</td><td>Aafreen McNamee                                        </td><td>-                                                      </td><td>-                                                      </td><td>1/8/2017                                               </td><td>Aafreen                                                </td><td>0                                                      </td><td>1                                                      </td><td>female                                                 </td><td>1932                                                   </td><td>2012                                                   </td></tr>\n",
       "\t<tr><th scope=row>83</th><td>aakash                                                 </td><td>Like/162748404209324                                   </td><td>Like                                                   </td><td>Resident Evil                                          </td><td>Are you afraid of the dark? Because you should be. #RE7</td><td>Aakash Kumar                                           </td><td>-                                                      </td><td>-                                                      </td><td>1/8/2017                                               </td><td>Aakash                                                 </td><td>1                                                      </td><td>0                                                      </td><td>male                                                   </td><td>1932                                                   </td><td>2012                                                   </td></tr>\n",
       "\t<tr><th scope=row>84</th><td>aakash                                                 </td><td>Comment/1365217000165850_1232412240181374              </td><td>Comment                                                </td><td>Resident Evil                                          </td><td>Are you afraid of the dark? Because you should be. #RE7</td><td>Aakash Dave                                            </td><td>Munjal Jani                                            </td><td>0.0000                                                 </td><td>1/8/2017                                               </td><td>Aakash                                                 </td><td>1                                                      </td><td>0                                                      </td><td>male                                                   </td><td>1932                                                   </td><td>2012                                                   </td></tr>\n",
       "\t<tr><th scope=row>85</th><td>aakash                                                                                                                                                                          </td><td>Comment/1364017066952510_1364253716928845                                                                                                                                       </td><td>Comment                                                                                                                                                                         </td><td>Resident Evil                                                                                                                                                                   </td><td>[UK ONLY] To celebrate the release of Resident Evil 7, we invite you to feel the fear and dread of the Baker's house in our real life experience! http://RE7experiencelondon.com</td><td>Aakash Pundir                                                                                                                                                                   </td><td>Ritwik Sondhi <f0><9f><98><b0>                                                                                                                                                  </td><td>-                                                                                                                                                                               </td><td>1/5/2017                                                                                                                                                                        </td><td>Aakash                                                                                                                                                                          </td><td>1                                                                                                                                                                               </td><td>0                                                                                                                                                                               </td><td>male                                                                                                                                                                            </td><td>1932                                                                                                                                                                            </td><td>2012                                                                                                                                                                            </td></tr>\n",
       "</tbody>\n",
       "</table>\n"
      ],
      "text/latex": [
       "\\begin{tabular}{r|lllllllllllllll}\n",
       "  & first\\_name & Action\\_id & TypeAction & Page\\_name & Feed\\_message & User\\_name & CommentsForItem\\_message & Sentiment & Action\\_created\\_time\\_qvdate & name & proportion\\_male & proportion\\_female & gender & year\\_min & year\\_max\\\\\n",
       "\\hline\n",
       "\t79 & aadish                                                                                        & Like/10211262216735703                                                                        & Like                                                                                          & Street Fighter                                                                                & Artgerm starting the year off strong with this amazing Chun-Li fan art! http://bit.ly/2iAJ2qO & Aadish Balouria                                                                               & -                                                                                             & -                                                                                             & 1/7/2017                                                                                      & Aadish                                                                                        & 1                                                                                             & 0                                                                                             & male                                                                                          & 1932                                                                                          & 2012                                                                                         \\\\\n",
       "\t80 & aadish                                                                                        & Comment/10155001784202147\\_10155003381432147                                                 & Comment                                                                                       & Street Fighter                                                                                & Artgerm starting the year off strong with this amazing Chun-Li fan art! http://bit.ly/2iAJ2qO & Aadish Balouria                                                                               & Them octiceps femoris though                                                                  & -0.3339                                                                                       & 1/7/2017                                                                                      & Aadish                                                                                        & 1                                                                                             & 0                                                                                             & male                                                                                          & 1932                                                                                          & 2012                                                                                         \\\\\n",
       "\t81 & aafreen                                                   & Like/10211099724065980                                    & Like                                                      & Resident Evil                                             & Are you afraid of the dark? Because you should be. \\#RE7 & Aafreen McNamee                                           & -                                                         & -                                                         & 1/8/2017                                                  & Aafreen                                                   & 0                                                         & 1                                                         & female                                                    & 1932                                                      & 2012                                                     \\\\\n",
       "\t83 & aakash                                                    & Like/162748404209324                                      & Like                                                      & Resident Evil                                             & Are you afraid of the dark? Because you should be. \\#RE7 & Aakash Kumar                                              & -                                                         & -                                                         & 1/8/2017                                                  & Aakash                                                    & 1                                                         & 0                                                         & male                                                      & 1932                                                      & 2012                                                     \\\\\n",
       "\t84 & aakash                                                    & Comment/1365217000165850\\_1232412240181374               & Comment                                                   & Resident Evil                                             & Are you afraid of the dark? Because you should be. \\#RE7 & Aakash Dave                                               & Munjal Jani                                               & 0.0000                                                    & 1/8/2017                                                  & Aakash                                                    & 1                                                         & 0                                                         & male                                                      & 1932                                                      & 2012                                                     \\\\\n",
       "\t85 & aakash                                                                                                                                                                               & Comment/1364017066952510\\_1364253716928845                                                                                                                                          & Comment                                                                                                                                                                              & Resident Evil                                                                                                                                                                        & {[}UK ONLY{]} To celebrate the release of Resident Evil 7, we invite you to feel the fear and dread of the Baker's house in our real life experience! http://RE7experiencelondon.com & Aakash Pundir                                                                                                                                                                        & Ritwik Sondhi <f0><9f><98><b0>                                                                                                                                                       & -                                                                                                                                                                                    & 1/5/2017                                                                                                                                                                             & Aakash                                                                                                                                                                               & 1                                                                                                                                                                                    & 0                                                                                                                                                                                    & male                                                                                                                                                                                 & 1932                                                                                                                                                                                 & 2012                                                                                                                                                                                \\\\\n",
       "\\end{tabular}\n"
      ],
      "text/plain": [
       "   first_name                                   Action_id TypeAction\n",
       "79     aadish                      Like/10211262216735703       Like\n",
       "80     aadish Comment/10155001784202147_10155003381432147    Comment\n",
       "81    aafreen                      Like/10211099724065980       Like\n",
       "83     aakash                        Like/162748404209324       Like\n",
       "84     aakash   Comment/1365217000165850_1232412240181374    Comment\n",
       "85     aakash   Comment/1364017066952510_1364253716928845    Comment\n",
       "        Page_name\n",
       "79 Street Fighter\n",
       "80 Street Fighter\n",
       "81  Resident Evil\n",
       "83  Resident Evil\n",
       "84  Resident Evil\n",
       "85  Resident Evil\n",
       "                                                                                                                                                                       Feed_message\n",
       "79                                                                                    Artgerm starting the year off strong with this amazing Chun-Li fan art! http://bit.ly/2iAJ2qO\n",
       "80                                                                                    Artgerm starting the year off strong with this amazing Chun-Li fan art! http://bit.ly/2iAJ2qO\n",
       "81                                                                                                                          Are you afraid of the dark? Because you should be. #RE7\n",
       "83                                                                                                                          Are you afraid of the dark? Because you should be. #RE7\n",
       "84                                                                                                                          Are you afraid of the dark? Because you should be. #RE7\n",
       "85 [UK ONLY] To celebrate the release of Resident Evil 7, we invite you to feel the fear and dread of the Baker's house in our real life experience! http://RE7experiencelondon.com\n",
       "         User_name        CommentsForItem_message Sentiment\n",
       "79 Aadish Balouria                              -         -\n",
       "80 Aadish Balouria   Them octiceps femoris though   -0.3339\n",
       "81 Aafreen McNamee                              -         -\n",
       "83    Aakash Kumar                              -         -\n",
       "84     Aakash Dave                    Munjal Jani    0.0000\n",
       "85   Aakash Pundir Ritwik Sondhi \\360\\237\\230\\260         -\n",
       "   Action_created_time_qvdate    name proportion_male proportion_female gender\n",
       "79                   1/7/2017  Aadish               1                 0   male\n",
       "80                   1/7/2017  Aadish               1                 0   male\n",
       "81                   1/8/2017 Aafreen               0                 1 female\n",
       "83                   1/8/2017  Aakash               1                 0   male\n",
       "84                   1/8/2017  Aakash               1                 0   male\n",
       "85                   1/5/2017  Aakash               1                 0   male\n",
       "   year_min year_max\n",
       "79     1932     2012\n",
       "80     1932     2012\n",
       "81     1932     2012\n",
       "83     1932     2012\n",
       "84     1932     2012\n",
       "85     1932     2012"
      ]
     },
     "metadata": {},
     "output_type": "display_data"
    }
   ],
   "source": [
    "unique(all_genders$gender)\n",
    "table(all_genders$gender)",
    "results <- merge(x = df, y = genders, by = \"first_name\", all.x = TRUE)\n",
    "head(results)\n",
    "head(results[!is.na(results$name),])"
   ]
  },
  {
   "cell_type": "code",
   "execution_count": 37,
   "metadata": {
    "collapsed": true
   },
   "outputs": [],
   "source": [
    "# save the results as a new csv\n",
    "write.csv(results, file = 'output/input_with_gender.csv')"
   ]
  }
 ],
 "metadata": {
  "kernelspec": {
   "display_name": "R",
   "language": "R",
   "name": "ir"
  },
  "language_info": {
   "codemirror_mode": "r",
   "file_extension": ".r",
   "mimetype": "text/x-r-source",
   "name": "R",
   "pygments_lexer": "r",
   "version": "3.3.1"
  }
 },
 "nbformat": 4,
 "nbformat_minor": 2
}
