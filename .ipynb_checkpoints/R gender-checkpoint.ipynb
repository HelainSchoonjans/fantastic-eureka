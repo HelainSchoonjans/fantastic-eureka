{
 "cells": [
  {
   "cell_type": "code",
   "execution_count": 45,
   "metadata": {
    "collapsed": false
   },
   "outputs": [
    {
     "name": "stderr",
     "output_type": "stream",
     "text": [
      "Updating HTML index of packages in '.Library'\n",
      "Making 'packages.html' ... done\n",
      "Updating HTML index of packages in '.Library'\n",
      "Making 'packages.html' ... done\n"
     ]
    }
   ],
   "source": [
    "install.packages(\"gender\", repos=\"http://cran.rstudio.com/\")\n",
    "install.packages(\"genderdata\", repos = \"http://packages.ropensci.org\")"
   ]
  },
  {
   "cell_type": "code",
   "execution_count": 39,
   "metadata": {
    "collapsed": false,
    "scrolled": true
   },
   "outputs": [
    {
     "name": "stdout",
     "output_type": "stream",
     "text": [
      "[1] \"Column names:\"\n"
     ]
    },
    {
     "data": {
      "text/html": [
       "<ol class=list-inline>\n",
       "\t<li>'Action_id'</li>\n",
       "\t<li>'TypeAction'</li>\n",
       "\t<li>'Page_name'</li>\n",
       "\t<li>'Feed_message'</li>\n",
       "\t<li>'User_name'</li>\n",
       "\t<li>'CommentsForItem_message'</li>\n",
       "\t<li>'Sentiment'</li>\n",
       "\t<li>'Action_created_time_qvdate'</li>\n",
       "</ol>\n"
      ],
      "text/latex": [
       "\\begin{enumerate*}\n",
       "\\item 'Action\\_id'\n",
       "\\item 'TypeAction'\n",
       "\\item 'Page\\_name'\n",
       "\\item 'Feed\\_message'\n",
       "\\item 'User\\_name'\n",
       "\\item 'CommentsForItem\\_message'\n",
       "\\item 'Sentiment'\n",
       "\\item 'Action\\_created\\_time\\_qvdate'\n",
       "\\end{enumerate*}\n"
      ],
      "text/markdown": [
       "1. 'Action_id'\n",
       "2. 'TypeAction'\n",
       "3. 'Page_name'\n",
       "4. 'Feed_message'\n",
       "5. 'User_name'\n",
       "6. 'CommentsForItem_message'\n",
       "7. 'Sentiment'\n",
       "8. 'Action_created_time_qvdate'\n",
       "\n",
       "\n"
      ],
      "text/plain": [
       "[1] \"Action_id\"                  \"TypeAction\"                \n",
       "[3] \"Page_name\"                  \"Feed_message\"              \n",
       "[5] \"User_name\"                  \"CommentsForItem_message\"   \n",
       "[7] \"Sentiment\"                  \"Action_created_time_qvdate\""
      ]
     },
     "metadata": {},
     "output_type": "display_data"
    },
    {
     "name": "stdout",
     "output_type": "stream",
     "text": [
      "[1] \"Head:\"\n"
     ]
    },
    {
     "data": {
      "text/html": [
       "<table>\n",
       "<thead><tr><th></th><th scope=col>Action_id</th><th scope=col>TypeAction</th><th scope=col>Page_name</th><th scope=col>Feed_message</th><th scope=col>User_name</th><th scope=col>CommentsForItem_message</th><th scope=col>Sentiment</th><th scope=col>Action_created_time_qvdate</th></tr></thead>\n",
       "<tbody>\n",
       "\t<tr><th scope=row>1</th><td>Comment/1364017066952510_1364097753611108                                                                                                                                       </td><td>Comment                                                                                                                                                                         </td><td>Resident Evil                                                                                                                                                                   </td><td>[UK ONLY] To celebrate the release of Resident Evil 7, we invite you to feel the fear and dread of the Baker's house in our real life experience! http://RE7experiencelondon.com</td><td>Ronald Briand                                                                                                                                                                   </td><td>Muy buena :)  (Y)                                                                                                                                                               </td><td>0.9880                                                                                                                                                                          </td><td>1/5/2017                                                                                                                                                                        </td></tr>\n",
       "\t<tr><th scope=row>2</th><td>Comment/10154797365350629_10154797373500629                                                                                                       </td><td>Comment                                                                                                                                           </td><td>Bandai Namco                                                                                                                                      </td><td>We continue our Tales Of look back with Tales of Graces f! We loved Asbel's sense of justice (and awesome moves!) Who was your favorite character?</td><td>Jon Imboden                                                                                                                                       </td><td>I may be in the minority here, but I LOVE the battle system in this game. The story gets a bit convoluted, but is very enjoyable overall.         </td><td>0.9540                                                                                                                                            </td><td>12/27/2016                                                                                                                                        </td></tr>\n",
       "\t<tr><th scope=row>3</th><td>Comment/1365217000165850_1365754593445424              </td><td>Comment                                                </td><td>Resident Evil                                          </td><td>Are you afraid of the dark? Because you should be. #RE7</td><td>Claudia Alejandra Olgu<ed>n                            </td><td>mira Roberto Zeballos,  para probar en tu PEQUE!! :)   </td><td>0.9527                                                 </td><td>1/7/2017                                               </td></tr>\n",
       "\t<tr><th scope=row>4</th><td>Comment/1364017066952510_1364061950281355                                                                                                                                       </td><td>Comment                                                                                                                                                                         </td><td>Resident Evil                                                                                                                                                                   </td><td>[UK ONLY] To celebrate the release of Resident Evil 7, we invite you to feel the fear and dread of the Baker's house in our real life experience! http://RE7experiencelondon.com</td><td>David Lawrence                                                                                                                                                                  </td><td>Sarah Amadeus :O                                                                                                                                                                </td><td>0.9402                                                                                                                                                                          </td><td>1/5/2017                                                                                                                                                                        </td></tr>\n",
       "\t<tr><th scope=row>5</th><td>Comment/1365217000165850_1225502404193085                    </td><td>Comment                                                      </td><td>Resident Evil                                                </td><td>Are you afraid of the dark? Because you should be. #RE7      </td><td>Leandro Guilherme                                            </td><td>Aeee Paulo Lucas vou te dar de presente no seu niver hahahaha</td><td>0.9382                                                       </td><td>1/8/2017                                                     </td></tr>\n",
       "\t<tr><th scope=row>6</th><td>Comment/1363458100341740_1366094460078104                                    </td><td>Comment                                                                      </td><td>Resident Evil                                                                </td><td>#ThingsIWontApologizeFor: Cheesy one-liners and using up all the magnum ammo.</td><td>Oliver Yamanaka                                                              </td><td>Tiro da \"derrota\", de JILL. Muito bom!                                       </td><td>0.9373                                                                       </td><td>1/8/2017                                                                     </td></tr>\n",
       "</tbody>\n",
       "</table>\n"
      ],
      "text/latex": [
       "\\begin{tabular}{r|llllllll}\n",
       "  & Action\\_id & TypeAction & Page\\_name & Feed\\_message & User\\_name & CommentsForItem\\_message & Sentiment & Action\\_created\\_time\\_qvdate\\\\\n",
       "\\hline\n",
       "\t1 & Comment/1364017066952510\\_1364097753611108                                                                                                                                          & Comment                                                                                                                                                                              & Resident Evil                                                                                                                                                                        & {[}UK ONLY{]} To celebrate the release of Resident Evil 7, we invite you to feel the fear and dread of the Baker's house in our real life experience! http://RE7experiencelondon.com & Ronald Briand                                                                                                                                                                        & Muy buena :)  (Y)                                                                                                                                                                    & 0.9880                                                                                                                                                                               & 1/5/2017                                                                                                                                                                            \\\\\n",
       "\t2 & Comment/10154797365350629\\_10154797373500629                                                                                                      & Comment                                                                                                                                            & Bandai Namco                                                                                                                                       & We continue our Tales Of look back with Tales of Graces f! We loved Asbel's sense of justice (and awesome moves!) Who was your favorite character? & Jon Imboden                                                                                                                                        & I may be in the minority here, but I LOVE the battle system in this game. The story gets a bit convoluted, but is very enjoyable overall.          & 0.9540                                                                                                                                             & 12/27/2016                                                                                                                                        \\\\\n",
       "\t3 & Comment/1365217000165850\\_1365754593445424               & Comment                                                   & Resident Evil                                             & Are you afraid of the dark? Because you should be. \\#RE7 & Claudia Alejandra Olgu<ed>n                               & mira Roberto Zeballos,  para probar en tu PEQUE!! :)      & 0.9527                                                    & 1/7/2017                                                 \\\\\n",
       "\t4 & Comment/1364017066952510\\_1364061950281355                                                                                                                                          & Comment                                                                                                                                                                              & Resident Evil                                                                                                                                                                        & {[}UK ONLY{]} To celebrate the release of Resident Evil 7, we invite you to feel the fear and dread of the Baker's house in our real life experience! http://RE7experiencelondon.com & David Lawrence                                                                                                                                                                       & Sarah Amadeus :O                                                                                                                                                                     & 0.9402                                                                                                                                                                               & 1/5/2017                                                                                                                                                                            \\\\\n",
       "\t5 & Comment/1365217000165850\\_1225502404193085                   & Comment                                                       & Resident Evil                                                 & Are you afraid of the dark? Because you should be. \\#RE7     & Leandro Guilherme                                             & Aeee Paulo Lucas vou te dar de presente no seu niver hahahaha & 0.9382                                                        & 1/8/2017                                                     \\\\\n",
       "\t6 & Comment/1363458100341740\\_1366094460078104                                     & Comment                                                                         & Resident Evil                                                                   & \\#ThingsIWontApologizeFor: Cheesy one-liners and using up all the magnum ammo. & Oliver Yamanaka                                                                 & Tiro da \"derrota\", de JILL. Muito bom!                                          & 0.9373                                                                          & 1/8/2017                                                                       \\\\\n",
       "\\end{tabular}\n"
      ],
      "text/plain": [
       "                                    Action_id TypeAction     Page_name\n",
       "1   Comment/1364017066952510_1364097753611108    Comment Resident Evil\n",
       "2 Comment/10154797365350629_10154797373500629    Comment  Bandai Namco\n",
       "3   Comment/1365217000165850_1365754593445424    Comment Resident Evil\n",
       "4   Comment/1364017066952510_1364061950281355    Comment Resident Evil\n",
       "5   Comment/1365217000165850_1225502404193085    Comment Resident Evil\n",
       "6   Comment/1363458100341740_1366094460078104    Comment Resident Evil\n",
       "                                                                                                                                                                      Feed_message\n",
       "1 [UK ONLY] To celebrate the release of Resident Evil 7, we invite you to feel the fear and dread of the Baker's house in our real life experience! http://RE7experiencelondon.com\n",
       "2                               We continue our Tales Of look back with Tales of Graces f! We loved Asbel's sense of justice (and awesome moves!) Who was your favorite character?\n",
       "3                                                                                                                          Are you afraid of the dark? Because you should be. #RE7\n",
       "4 [UK ONLY] To celebrate the release of Resident Evil 7, we invite you to feel the fear and dread of the Baker's house in our real life experience! http://RE7experiencelondon.com\n",
       "5                                                                                                                          Are you afraid of the dark? Because you should be. #RE7\n",
       "6                                                                                                    #ThingsIWontApologizeFor: Cheesy one-liners and using up all the magnum ammo.\n",
       "                    User_name\n",
       "1               Ronald Briand\n",
       "2                 Jon Imboden\n",
       "3 Claudia Alejandra Olgu\\355n\n",
       "4              David Lawrence\n",
       "5           Leandro Guilherme\n",
       "6             Oliver Yamanaka\n",
       "                                                                                                                    CommentsForItem_message\n",
       "1                                                                                                                         Muy buena :)  (Y)\n",
       "2 I may be in the minority here, but I LOVE the battle system in this game. The story gets a bit convoluted, but is very enjoyable overall.\n",
       "3                                                                                      mira Roberto Zeballos,  para probar en tu PEQUE!! :)\n",
       "4                                                                                                                          Sarah Amadeus :O\n",
       "5                                                                             Aeee Paulo Lucas vou te dar de presente no seu niver hahahaha\n",
       "6                                                                                                    Tiro da \"derrota\", de JILL. Muito bom!\n",
       "  Sentiment Action_created_time_qvdate\n",
       "1    0.9880                   1/5/2017\n",
       "2    0.9540                 12/27/2016\n",
       "3    0.9527                   1/7/2017\n",
       "4    0.9402                   1/5/2017\n",
       "5    0.9382                   1/8/2017\n",
       "6    0.9373                   1/8/2017"
      ]
     },
     "metadata": {},
     "output_type": "display_data"
    },
    {
     "name": "stdout",
     "output_type": "stream",
     "text": [
      "[1] \"Usernames:\"\n"
     ]
    },
    {
     "data": {
      "text/html": [
       "<ol class=list-inline>\n",
       "\t<li>Ronald Briand</li>\n",
       "\t<li>Jon Imboden</li>\n",
       "\t<li>Claudia Alejandra Olgu<ed>n</li>\n",
       "\t<li>David Lawrence</li>\n",
       "\t<li>Leandro Guilherme</li>\n",
       "\t<li>Oliver Yamanaka</li>\n",
       "</ol>\n"
      ],
      "text/latex": [
       "\\begin{enumerate*}\n",
       "\\item Ronald Briand\n",
       "\\item Jon Imboden\n",
       "\\item Claudia Alejandra Olgu<ed>n\n",
       "\\item David Lawrence\n",
       "\\item Leandro Guilherme\n",
       "\\item Oliver Yamanaka\n",
       "\\end{enumerate*}\n"
      ],
      "text/markdown": [
       "1. Ronald Briand\n",
       "2. Jon Imboden\n",
       "3. Claudia Alejandra Olgu<ed>n\n",
       "4. David Lawrence\n",
       "5. Leandro Guilherme\n",
       "6. Oliver Yamanaka\n",
       "\n",
       "\n"
      ],
      "text/plain": [
       "[1] Ronald Briand               Jon Imboden                \n",
       "[3] Claudia Alejandra Olgu\\355n David Lawrence             \n",
       "[5] Leandro Guilherme           Oliver Yamanaka            \n",
       "61431 Levels:  '? ???? '?????? ?????????' '??????? ????????' 'regin Iyas ... \\337\\351ci Sz\\341vai"
      ]
     },
     "metadata": {},
     "output_type": "display_data"
    }
   ],
   "source": [
    "library(gender)\n",
    "no <- Sys.setlocale(locale=\"C\")\n",
    "df <- read.csv(\"input/input.csv\")\n",
    "subdf <- head(df)\n",
    "\n",
    "\n",
    "print('Column names:')\n",
    "colnames(subdf)\n",
    "\n",
    "print('Head:')\n",
    "head(subdf)\n",
    "\n",
    "print('Usernames:')\n",
    "usernames = subdf$User_name\n",
    "head(usernames)"
   ]
  },
  {
   "cell_type": "code",
   "execution_count": 40,
   "metadata": {
    "collapsed": false
   },
   "outputs": [
    {
     "name": "stdout",
     "output_type": "stream",
     "text": [
      "[1] \"First names:\"\n"
     ]
    },
    {
     "data": {
      "text/html": [
       "<ol class=list-inline>\n",
       "\t<li>'Ronald'</li>\n",
       "\t<li>'Jon'</li>\n",
       "\t<li>'Claudia'</li>\n",
       "\t<li>'David'</li>\n",
       "\t<li>'Leandro'</li>\n",
       "\t<li>'Oliver'</li>\n",
       "</ol>\n"
      ],
      "text/latex": [
       "\\begin{enumerate*}\n",
       "\\item 'Ronald'\n",
       "\\item 'Jon'\n",
       "\\item 'Claudia'\n",
       "\\item 'David'\n",
       "\\item 'Leandro'\n",
       "\\item 'Oliver'\n",
       "\\end{enumerate*}\n"
      ],
      "text/markdown": [
       "1. 'Ronald'\n",
       "2. 'Jon'\n",
       "3. 'Claudia'\n",
       "4. 'David'\n",
       "5. 'Leandro'\n",
       "6. 'Oliver'\n",
       "\n",
       "\n"
      ],
      "text/plain": [
       "[1] \"Ronald\"  \"Jon\"     \"Claudia\" \"David\"   \"Leandro\" \"Oliver\" "
      ]
     },
     "metadata": {},
     "output_type": "display_data"
    }
   ],
   "source": [
    "print('First names:')\n",
    "first_names <- sapply(strsplit(as.character(usernames),\" \"), `[`, 1)\n",
    "head(first_names)"
   ]
  },
  {
   "cell_type": "code",
   "execution_count": 46,
   "metadata": {
    "collapsed": false
   },
   "outputs": [
    {
     "name": "stderr",
     "output_type": "stream",
     "text": [
      "Updating HTML index of packages in '.Library'\n",
      "Making 'packages.html' ... done\n"
     ]
    },
    {
     "name": "stdout",
     "output_type": "stream",
     "text": [
      "[1] \"Genders:\"\n"
     ]
    },
    {
     "data": {
      "text/html": [
       "<table>\n",
       "<thead><tr><th></th><th scope=col>name</th><th scope=col>proportion_male</th><th scope=col>proportion_female</th><th scope=col>gender</th><th scope=col>year_min</th><th scope=col>year_max</th></tr></thead>\n",
       "<tbody>\n",
       "\t<tr><th scope=row>1</th><td>Claudia</td><td>0.0051 </td><td>0.9949 </td><td>female </td><td>1932   </td><td>2012   </td></tr>\n",
       "\t<tr><th scope=row>2</th><td>David </td><td>0.9963</td><td>0.0037</td><td>male  </td><td>1932  </td><td>2012  </td></tr>\n",
       "\t<tr><th scope=row>3</th><td>Jon   </td><td>0.9921</td><td>0.0079</td><td>male  </td><td>1932  </td><td>2012  </td></tr>\n",
       "\t<tr><th scope=row>4</th><td>Leandro</td><td>1      </td><td>0      </td><td>male   </td><td>1932   </td><td>2012   </td></tr>\n",
       "\t<tr><th scope=row>5</th><td>Oliver</td><td>0.9956</td><td>0.0044</td><td>male  </td><td>1932  </td><td>2012  </td></tr>\n",
       "\t<tr><th scope=row>6</th><td>Ronald</td><td>0.9963</td><td>0.0037</td><td>male  </td><td>1932  </td><td>2012  </td></tr>\n",
       "</tbody>\n",
       "</table>\n"
      ],
      "text/latex": [
       "\\begin{tabular}{r|llllll}\n",
       "  & name & proportion\\_male & proportion\\_female & gender & year\\_min & year\\_max\\\\\n",
       "\\hline\n",
       "\t1 & Claudia & 0.0051  & 0.9949  & female  & 1932    & 2012   \\\\\n",
       "\t2 & David  & 0.9963 & 0.0037 & male   & 1932   & 2012  \\\\\n",
       "\t3 & Jon    & 0.9921 & 0.0079 & male   & 1932   & 2012  \\\\\n",
       "\t4 & Leandro & 1       & 0       & male    & 1932    & 2012   \\\\\n",
       "\t5 & Oliver & 0.9956 & 0.0044 & male   & 1932   & 2012  \\\\\n",
       "\t6 & Ronald & 0.9963 & 0.0037 & male   & 1932   & 2012  \\\\\n",
       "\\end{tabular}\n"
      ],
      "text/plain": [
       "Source: local data frame [6 x 6]\n",
       "\n",
       "     name proportion_male proportion_female gender year_min year_max\n",
       "    (chr)           (dbl)             (dbl)  (chr)    (dbl)    (dbl)\n",
       "1 Claudia          0.0051            0.9949 female     1932     2012\n",
       "2   David          0.9963            0.0037   male     1932     2012\n",
       "3     Jon          0.9921            0.0079   male     1932     2012\n",
       "4 Leandro          1.0000            0.0000   male     1932     2012\n",
       "5  Oliver          0.9956            0.0044   male     1932     2012\n",
       "6  Ronald          0.9963            0.0037   male     1932     2012"
      ]
     },
     "metadata": {},
     "output_type": "display_data"
    }
   ],
   "source": [
    "# get the gender from the name ( and age?)\n",
    "# TODO HSC: how to get the age btw? Social networks?\n",
    "\n",
    "# without age\n",
    "#install.packages(\"genderdata\", repos = \"http://packages.ropensci.org\")\n",
    "print('Genders:')\n",
    "genders <- gender(first_names)\n",
    "head(genders)"
   ]
  }
 ],
 "metadata": {
  "kernelspec": {
   "display_name": "R",
   "language": "R",
   "name": "ir"
  },
  "language_info": {
   "codemirror_mode": "r",
   "file_extension": ".r",
   "mimetype": "text/x-r-source",
   "name": "R",
   "pygments_lexer": "r",
   "version": "3.3.1"
  }
 },
 "nbformat": 4,
 "nbformat_minor": 2
}
